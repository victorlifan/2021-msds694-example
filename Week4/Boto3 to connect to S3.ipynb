{
 "cells": [
  {
   "cell_type": "markdown",
   "metadata": {},
   "source": [
    "## Install Boto3 using conda - Boto3 lets you use AWS services like S3 and EC2.\n",
    "### conda install boto3"
   ]
  },
  {
   "cell_type": "code",
   "execution_count": 1,
   "metadata": {},
   "outputs": [],
   "source": [
    "import pyspark\n",
    "import os\n",
    "import boto3 "
   ]
  },
  {
   "cell_type": "code",
   "execution_count": 2,
   "metadata": {},
   "outputs": [
    {
     "name": "stderr",
     "output_type": "stream",
     "text": [
      "Using Spark's default log4j profile: org/apache/spark/log4j-defaults.properties\n",
      "Setting default log level to \"WARN\".\n",
      "To adjust logging level use sc.setLogLevel(newLevel). For SparkR, use setLogLevel(newLevel).\n",
      "21/11/08 08:53:09 WARN NativeCodeLoader: Unable to load native-hadoop library for your platform... using builtin-java classes where applicable\n"
     ]
    }
   ],
   "source": [
    "sc = pyspark.SparkContext.getOrCreate()"
   ]
  },
  {
   "cell_type": "code",
   "execution_count": 3,
   "metadata": {},
   "outputs": [],
   "source": [
    "bucket_name = 'usfca-msan694' # Add your bucket name\n",
    "file_name = 'README.md'\n",
    "s3 = boto3.resource('s3')\n",
    "bucket = s3.Bucket(bucket_name) \n",
    "obj = bucket.Object(key=file_name) # S3 uses key-value structure where key is your file name\n",
    "file_content = obj.get()[\"Body\"].read().decode('utf-8') # Read the Body which is the contents of the file."
   ]
  },
  {
   "cell_type": "code",
   "execution_count": 4,
   "metadata": {},
   "outputs": [
    {
     "data": {
      "text/plain": [
       "'# Apache Spark\\n\\nSpark is a fast and general cluster computing system for Big Data. It provides\\nhigh-level APIs in Scala, Java, Python, and R, and an optimized engine that\\nsupports general computation graphs for data analysis. It also supports a\\nrich set of higher-level tools including Spark SQL for SQL and DataFrames,\\nMLlib for machine learning, GraphX for graph processing,\\nand Spark Streaming for stream processing.\\n\\n<http://spark.apache.org/>\\n\\n\\n## Online Documentation\\n\\nYou can find the latest Spark documentation, including a programming\\nguide, on the [project web page](http://spark.apache.org/documentation.html)\\nand [project wiki](https://cwiki.apache.org/confluence/display/SPARK).\\nThis README file only contains basic setup instructions.\\n\\n## Building Spark\\n\\nSpark is built using [Apache Maven](http://maven.apache.org/).\\nTo build Spark and its example programs, run:\\n\\n    build/mvn -DskipTests clean package\\n\\n(You do not need to do this if you downloaded a pre-built package.)\\n\\nYou can build Spark using more than one thread by using the -T option with Maven, see [\"Parallel builds in Maven 3\"](https://cwiki.apache.org/confluence/display/MAVEN/Parallel+builds+in+Maven+3).\\nMore detailed documentation is available from the project site, at\\n[\"Building Spark\"](http://spark.apache.org/docs/latest/building-spark.html).\\nFor developing Spark using an IDE, see [Eclipse](https://cwiki.apache.org/confluence/display/SPARK/Useful+Developer+Tools#UsefulDeveloperTools-Eclipse)\\nand [IntelliJ](https://cwiki.apache.org/confluence/display/SPARK/Useful+Developer+Tools#UsefulDeveloperTools-IntelliJ).\\n\\n## Interactive Scala Shell\\n\\nThe easiest way to start using Spark is through the Scala shell:\\n\\n    ./bin/spark-shell\\n\\nTry the following command, which should return 1000:\\n\\n    scala> sc.parallelize(1 to 1000).count()\\n\\n## Interactive Python Shell\\n\\nAlternatively, if you prefer Python, you can use the Python shell:\\n\\n    ./bin/pyspark\\n\\nAnd run the following command, which should also return 1000:\\n\\n    >>> sc.parallelize(range(1000)).count()\\n\\n## Example Programs\\n\\nSpark also comes with several sample programs in the `examples` directory.\\nTo run one of them, use `./bin/run-example <class> [params]`. For example:\\n\\n    ./bin/run-example SparkPi\\n\\nwill run the Pi example locally.\\n\\nYou can set the MASTER environment variable when running examples to submit\\nexamples to a cluster. This can be a mesos:// or spark:// URL,\\n\"yarn\" to run on YARN, and \"local\" to run\\nlocally with one thread, or \"local[N]\" to run locally with N threads. You\\ncan also use an abbreviated class name if the class is in the `examples`\\npackage. For instance:\\n\\n    MASTER=spark://host:7077 ./bin/run-example SparkPi\\n\\nMany of the example programs print usage help if no params are given.\\n\\n## Running Tests\\n\\nTesting first requires [building Spark](#building-spark). Once Spark is built, tests\\ncan be run using:\\n\\n    ./dev/run-tests\\n\\nPlease see the guidance on how to\\n[run tests for a module, or individual tests](https://cwiki.apache.org/confluence/display/SPARK/Useful+Developer+Tools).\\n\\n## A Note About Hadoop Versions\\n\\nSpark uses the Hadoop core library to talk to HDFS and other Hadoop-supported\\nstorage systems. Because the protocols have changed in different versions of\\nHadoop, you must build Spark against the same version that your cluster runs.\\n\\nPlease refer to the build documentation at\\n[\"Specifying the Hadoop Version\"](http://spark.apache.org/docs/latest/building-spark.html#specifying-the-hadoop-version)\\nfor detailed guidance on building for a particular distribution of Hadoop, including\\nbuilding for particular Hive and Hive Thriftserver distributions.\\n\\n## Configuration\\n\\nPlease refer to the [Configuration Guide](http://spark.apache.org/docs/latest/configuration.html)\\nin the online documentation for an overview on how to configure Spark.\\n'"
      ]
     },
     "execution_count": 4,
     "metadata": {},
     "output_type": "execute_result"
    }
   ],
   "source": [
    "file_content"
   ]
  },
  {
   "cell_type": "code",
   "execution_count": 5,
   "metadata": {},
   "outputs": [],
   "source": [
    "lines = sc.parallelize([file_content])"
   ]
  },
  {
   "cell_type": "code",
   "execution_count": 6,
   "metadata": {},
   "outputs": [
    {
     "name": "stderr",
     "output_type": "stream",
     "text": [
      "                                                                                \r"
     ]
    },
    {
     "data": {
      "text/plain": [
       "['# Apache Spark\\n\\nSpark is a fast and general cluster computing system for Big Data. It provides\\nhigh-level APIs in Scala, Java, Python, and R, and an optimized engine that\\nsupports general computation graphs for data analysis. It also supports a\\nrich set of higher-level tools including Spark SQL for SQL and DataFrames,\\nMLlib for machine learning, GraphX for graph processing,\\nand Spark Streaming for stream processing.\\n\\n<http://spark.apache.org/>\\n\\n\\n## Online Documentation\\n\\nYou can find the latest Spark documentation, including a programming\\nguide, on the [project web page](http://spark.apache.org/documentation.html)\\nand [project wiki](https://cwiki.apache.org/confluence/display/SPARK).\\nThis README file only contains basic setup instructions.\\n\\n## Building Spark\\n\\nSpark is built using [Apache Maven](http://maven.apache.org/).\\nTo build Spark and its example programs, run:\\n\\n    build/mvn -DskipTests clean package\\n\\n(You do not need to do this if you downloaded a pre-built package.)\\n\\nYou can build Spark using more than one thread by using the -T option with Maven, see [\"Parallel builds in Maven 3\"](https://cwiki.apache.org/confluence/display/MAVEN/Parallel+builds+in+Maven+3).\\nMore detailed documentation is available from the project site, at\\n[\"Building Spark\"](http://spark.apache.org/docs/latest/building-spark.html).\\nFor developing Spark using an IDE, see [Eclipse](https://cwiki.apache.org/confluence/display/SPARK/Useful+Developer+Tools#UsefulDeveloperTools-Eclipse)\\nand [IntelliJ](https://cwiki.apache.org/confluence/display/SPARK/Useful+Developer+Tools#UsefulDeveloperTools-IntelliJ).\\n\\n## Interactive Scala Shell\\n\\nThe easiest way to start using Spark is through the Scala shell:\\n\\n    ./bin/spark-shell\\n\\nTry the following command, which should return 1000:\\n\\n    scala> sc.parallelize(1 to 1000).count()\\n\\n## Interactive Python Shell\\n\\nAlternatively, if you prefer Python, you can use the Python shell:\\n\\n    ./bin/pyspark\\n\\nAnd run the following command, which should also return 1000:\\n\\n    >>> sc.parallelize(range(1000)).count()\\n\\n## Example Programs\\n\\nSpark also comes with several sample programs in the `examples` directory.\\nTo run one of them, use `./bin/run-example <class> [params]`. For example:\\n\\n    ./bin/run-example SparkPi\\n\\nwill run the Pi example locally.\\n\\nYou can set the MASTER environment variable when running examples to submit\\nexamples to a cluster. This can be a mesos:// or spark:// URL,\\n\"yarn\" to run on YARN, and \"local\" to run\\nlocally with one thread, or \"local[N]\" to run locally with N threads. You\\ncan also use an abbreviated class name if the class is in the `examples`\\npackage. For instance:\\n\\n    MASTER=spark://host:7077 ./bin/run-example SparkPi\\n\\nMany of the example programs print usage help if no params are given.\\n\\n## Running Tests\\n\\nTesting first requires [building Spark](#building-spark). Once Spark is built, tests\\ncan be run using:\\n\\n    ./dev/run-tests\\n\\nPlease see the guidance on how to\\n[run tests for a module, or individual tests](https://cwiki.apache.org/confluence/display/SPARK/Useful+Developer+Tools).\\n\\n## A Note About Hadoop Versions\\n\\nSpark uses the Hadoop core library to talk to HDFS and other Hadoop-supported\\nstorage systems. Because the protocols have changed in different versions of\\nHadoop, you must build Spark against the same version that your cluster runs.\\n\\nPlease refer to the build documentation at\\n[\"Specifying the Hadoop Version\"](http://spark.apache.org/docs/latest/building-spark.html#specifying-the-hadoop-version)\\nfor detailed guidance on building for a particular distribution of Hadoop, including\\nbuilding for particular Hive and Hive Thriftserver distributions.\\n\\n## Configuration\\n\\nPlease refer to the [Configuration Guide](http://spark.apache.org/docs/latest/configuration.html)\\nin the online documentation for an overview on how to configure Spark.\\n']"
      ]
     },
     "execution_count": 6,
     "metadata": {},
     "output_type": "execute_result"
    }
   ],
   "source": [
    "lines.collect()"
   ]
  },
  {
   "cell_type": "code",
   "execution_count": 7,
   "metadata": {},
   "outputs": [],
   "source": [
    "sc.stop()"
   ]
  },
  {
   "cell_type": "code",
   "execution_count": null,
   "metadata": {},
   "outputs": [],
   "source": []
  }
 ],
 "metadata": {
  "kernelspec": {
   "display_name": "Python 3 (ipykernel)",
   "language": "python",
   "name": "python3"
  },
  "language_info": {
   "codemirror_mode": {
    "name": "ipython",
    "version": 3
   },
   "file_extension": ".py",
   "mimetype": "text/x-python",
   "name": "python",
   "nbconvert_exporter": "python",
   "pygments_lexer": "ipython3",
   "version": "3.9.7"
  },
  "varInspector": {
   "cols": {
    "lenName": 16,
    "lenType": 16,
    "lenVar": 40
   },
   "kernels_config": {
    "python": {
     "delete_cmd_postfix": "",
     "delete_cmd_prefix": "del ",
     "library": "var_list.py",
     "varRefreshCmd": "print(var_dic_list())"
    },
    "r": {
     "delete_cmd_postfix": ") ",
     "delete_cmd_prefix": "rm(",
     "library": "var_list.r",
     "varRefreshCmd": "cat(var_dic_list()) "
    }
   },
   "types_to_exclude": [
    "module",
    "function",
    "builtin_function_or_method",
    "instance",
    "_Feature"
   ],
   "window_display": false
  }
 },
 "nbformat": 4,
 "nbformat_minor": 4
}
