{
 "cells": [
  {
   "cell_type": "code",
   "execution_count": 1,
   "id": "1d787618",
   "metadata": {},
   "outputs": [
    {
     "name": "stderr",
     "output_type": "stream",
     "text": [
      "21/11/19 11:54:55 WARN Utils: Your hostname, Fans-MacBook-Air.local resolves to a loopback address: 127.0.0.1; using 10.1.143.47 instead (on interface en0)\n",
      "21/11/19 11:54:55 WARN Utils: Set SPARK_LOCAL_IP if you need to bind to another address\n",
      "Using Spark's default log4j profile: org/apache/spark/log4j-defaults.properties\n",
      "Setting default log level to \"WARN\".\n",
      "To adjust logging level use sc.setLogLevel(newLevel). For SparkR, use setLogLevel(newLevel).\n",
      "21/11/19 11:54:55 WARN NativeCodeLoader: Unable to load native-hadoop library for your platform... using builtin-java classes where applicable\n",
      "21/11/19 11:54:56 WARN Utils: Service 'SparkUI' could not bind on port 4040. Attempting port 4041.\n",
      "21/11/19 11:54:56 WARN Utils: Service 'SparkUI' could not bind on port 4041. Attempting port 4042.\n",
      "21/11/19 11:54:56 WARN Utils: Service 'SparkUI' could not bind on port 4042. Attempting port 4043.\n",
      "21/11/19 11:54:56 WARN Utils: Service 'SparkUI' could not bind on port 4043. Attempting port 4044.\n"
     ]
    }
   ],
   "source": [
    "from pyspark import SparkContext\n",
    "import pyspark\n",
    "\n",
    "conf = pyspark.SparkConf().set(\"spark.driver.host\", \"localhost\")\n",
    "sc = SparkContext.getOrCreate()\n",
    "sc.setLogLevel('OFF')"
   ]
  },
  {
   "cell_type": "code",
   "execution_count": 2,
   "id": "6ba4c97c",
   "metadata": {},
   "outputs": [],
   "source": [
    "supervisor_sf_pair = sc.textFile(\"../data/SF_business/supervisor_sf.tsv\")\\\n",
    "                       .map(lambda x : x.split(\"\\t\"))\\\n",
    "                       .map(lambda x : (x[0], x[1]))\n",
    "zip_biz_pair = sc.textFile(\"../data/SF_business/filtered_registered_business_sf.tsv\")\\\n",
    "                 .map(lambda x : x.split(\"\\t\"))\\\n",
    "                 .map(lambda x : (x[0], x[1:]))"
   ]
  },
  {
   "cell_type": "markdown",
   "id": "8fb173a1",
   "metadata": {},
   "source": [
    "## 1. Using “filtered_registered_business_sf.tsv” and “supervisor_sf.tsv”, list unique business names without a supervisor ordered by name."
   ]
  },
  {
   "cell_type": "code",
   "execution_count": 3,
   "id": "8de3ec67-d4b7-4209-8cc7-3e58ded8ca76",
   "metadata": {},
   "outputs": [
    {
     "name": "stderr",
     "output_type": "stream",
     "text": [
      "                                                                                \r"
     ]
    },
    {
     "data": {
      "text/plain": [
       "[('94102', '8'),\n",
       " ('94102', '6'),\n",
       " ('94102', '3'),\n",
       " ('94102', '5'),\n",
       " ('94103', '8')]"
      ]
     },
     "execution_count": 3,
     "metadata": {},
     "output_type": "execute_result"
    }
   ],
   "source": [
    "supervisor_sf_pair.take(5)"
   ]
  },
  {
   "cell_type": "code",
   "execution_count": 4,
   "id": "29858486-d2a2-4882-95ce-6c9be7b481d9",
   "metadata": {},
   "outputs": [
    {
     "data": {
      "text/plain": [
       "[('94123', ['Tournahu George L', '3301 Broderick St', 'San Francisco', 'CA']),\n",
       " ('94124',\n",
       "  ['Stephens Institute Inc', '2225 Jerrold Ave', 'San Francisco', 'CA']),\n",
       " ('94105',\n",
       "  ['Stephens Institute Inc', '180 New Montgomery St', 'San Francisco', 'CA']),\n",
       " ('94108', ['Stephens Institute Inc', '540 Powell St', 'San Francisco', 'CA']),\n",
       " ('94107',\n",
       "  ['Stephens Institute Inc', '460 Townsend St', 'San Francisco', 'CA'])]"
      ]
     },
     "execution_count": 4,
     "metadata": {},
     "output_type": "execute_result"
    }
   ],
   "source": [
    "zip_biz_pair.take(5)"
   ]
  },
  {
   "cell_type": "code",
   "execution_count": 12,
   "id": "0e0e6815",
   "metadata": {},
   "outputs": [
    {
     "data": {
      "text/plain": [
       "['\"1,2,3 Express Moving Llc\"',\n",
       " '\"1-2-3 Deli, Inc.\"',\n",
       " '\"1055 Pine Street, Llc\"',\n",
       " '\"1069 Pine Street, Llc\"',\n",
       " '\"1080 Bush Street, Llc\"']"
      ]
     },
     "execution_count": 12,
     "metadata": {},
     "output_type": "execute_result"
    }
   ],
   "source": [
    "zip_biz_pair.subtractByKey(supervisor_sf_pair.keys()).values().map(lambda x:x[0]).distinct().sortBy(lambda x: x).take(5)"
   ]
  },
  {
   "cell_type": "markdown",
   "id": "e4a8e23e",
   "metadata": {},
   "source": [
    "## 2. Create pairs of business name and supervisor id ordered by supervisor id (first) and business name (second)."
   ]
  },
  {
   "cell_type": "code",
   "execution_count": 17,
   "id": "2e017dec",
   "metadata": {},
   "outputs": [
    {
     "data": {
      "text/plain": [
       "[('\"1125 Sir Francis Drake Boulevard Operating Company, Llc\"', '1'),\n",
       " ('\"1909 Fillmore, Inc\"', '1'),\n",
       " ('\"2700 Geary Partners, L.p.\"', '1'),\n",
       " ('\"2705 Jackson Street, Dba\"', '1'),\n",
       " ('\"2bkco, Inc.\"', '1')]"
      ]
     },
     "execution_count": 17,
     "metadata": {},
     "output_type": "execute_result"
    }
   ],
   "source": [
    "zip_biz_pair.join(supervisor_sf_pair).values().map(lambda x: (x[0][0],x[1])).sortBy(lambda x: (x[-1],x[0])).take(5)"
   ]
  },
  {
   "cell_type": "markdown",
   "id": "2b75acff",
   "metadata": {},
   "source": [
    "## 3. Create pairs of business and supervisor id for all the business ordered by supervisor id (first) and business name (second). (although it may not have a district supervisor)."
   ]
  },
  {
   "cell_type": "code",
   "execution_count": null,
   "id": "45c931ee",
   "metadata": {},
   "outputs": [],
   "source": [
    "zip_biz_pair."
   ]
  },
  {
   "cell_type": "code",
   "execution_count": null,
   "id": "8b6d78fa",
   "metadata": {},
   "outputs": [],
   "source": [
    "sc.stop()"
   ]
  },
  {
   "cell_type": "code",
   "execution_count": null,
   "id": "797faf05",
   "metadata": {},
   "outputs": [],
   "source": []
  }
 ],
 "metadata": {
  "kernelspec": {
   "display_name": "Python 3 (ipykernel)",
   "language": "python",
   "name": "python3"
  },
  "language_info": {
   "codemirror_mode": {
    "name": "ipython",
    "version": 3
   },
   "file_extension": ".py",
   "mimetype": "text/x-python",
   "name": "python",
   "nbconvert_exporter": "python",
   "pygments_lexer": "ipython3",
   "version": "3.8.12"
  },
  "varInspector": {
   "cols": {
    "lenName": 16,
    "lenType": 16,
    "lenVar": 40
   },
   "kernels_config": {
    "python": {
     "delete_cmd_postfix": "",
     "delete_cmd_prefix": "del ",
     "library": "var_list.py",
     "varRefreshCmd": "print(var_dic_list())"
    },
    "r": {
     "delete_cmd_postfix": ") ",
     "delete_cmd_prefix": "rm(",
     "library": "var_list.r",
     "varRefreshCmd": "cat(var_dic_list()) "
    }
   },
   "types_to_exclude": [
    "module",
    "function",
    "builtin_function_or_method",
    "instance",
    "_Feature"
   ],
   "window_display": false
  }
 },
 "nbformat": 4,
 "nbformat_minor": 5
}
