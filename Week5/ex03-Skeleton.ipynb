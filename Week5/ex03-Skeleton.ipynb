{
 "cells": [
  {
   "cell_type": "code",
   "execution_count": null,
   "id": "1d787618",
   "metadata": {},
   "outputs": [],
   "source": [
    "from pyspark import SparkContext\n",
    "import pyspark\n",
    "\n",
    "conf = pyspark.SparkConf().set(\"spark.driver.host\", \"localhost\")\n",
    "sc = SparkContext.getOrCreate()\n",
    "sc.setLogLevel('OFF')"
   ]
  },
  {
   "cell_type": "code",
   "execution_count": null,
   "id": "6ba4c97c",
   "metadata": {},
   "outputs": [],
   "source": [
    "supervisor_sf_pair = sc.textFile(\"../data/SF_business/supervisor_sf.tsv\")\\\n",
    "                       .map(lambda x : x.split(\"\\t\"))\\\n",
    "                       .map(lambda x : (x[0], x[1]))\n",
    "zip_biz_pair = sc.textFile(\"../data/SF_business/filtered_registered_business_sf.tsv\")\\\n",
    "                 .map(lambda x : x.split(\"\\t\"))\\\n",
    "                 .map(lambda x : (x[0], x[1:]))"
   ]
  },
  {
   "cell_type": "markdown",
   "id": "8fb173a1",
   "metadata": {},
   "source": [
    "## 1. Using “filtered_registered_business_sf.tsv” and “supervisor_sf.tsv”, list unique business names without a supervisor ordered by name."
   ]
  },
  {
   "cell_type": "code",
   "execution_count": null,
   "id": "0e0e6815",
   "metadata": {},
   "outputs": [],
   "source": [
    "zip_biz_pair."
   ]
  },
  {
   "cell_type": "markdown",
   "id": "e4a8e23e",
   "metadata": {},
   "source": [
    "## 2. Create pairs of business name and supervisor id ordered by supervisor id (first) and business name (second)."
   ]
  },
  {
   "cell_type": "code",
   "execution_count": null,
   "id": "2e017dec",
   "metadata": {},
   "outputs": [],
   "source": [
    "zip_biz_pair."
   ]
  },
  {
   "cell_type": "markdown",
   "id": "2b75acff",
   "metadata": {},
   "source": [
    "## 3. Create pairs of business and supervisor id for all the business ordered by supervisor id (first) and business name (second). (although it may not have a district supervisor)."
   ]
  },
  {
   "cell_type": "code",
   "execution_count": null,
   "id": "45c931ee",
   "metadata": {},
   "outputs": [],
   "source": [
    "zip_biz_pair."
   ]
  },
  {
   "cell_type": "code",
   "execution_count": null,
   "id": "8b6d78fa",
   "metadata": {},
   "outputs": [],
   "source": [
    "sc.stop()"
   ]
  },
  {
   "cell_type": "code",
   "execution_count": null,
   "id": "797faf05",
   "metadata": {},
   "outputs": [],
   "source": []
  }
 ],
 "metadata": {
  "kernelspec": {
   "display_name": "Python 3 (ipykernel)",
   "language": "python",
   "name": "python3"
  },
  "language_info": {
   "codemirror_mode": {
    "name": "ipython",
    "version": 3
   },
   "file_extension": ".py",
   "mimetype": "text/x-python",
   "name": "python",
   "nbconvert_exporter": "python",
   "pygments_lexer": "ipython3",
   "version": "3.7.11"
  },
  "varInspector": {
   "cols": {
    "lenName": 16,
    "lenType": 16,
    "lenVar": 40
   },
   "kernels_config": {
    "python": {
     "delete_cmd_postfix": "",
     "delete_cmd_prefix": "del ",
     "library": "var_list.py",
     "varRefreshCmd": "print(var_dic_list())"
    },
    "r": {
     "delete_cmd_postfix": ") ",
     "delete_cmd_prefix": "rm(",
     "library": "var_list.r",
     "varRefreshCmd": "cat(var_dic_list()) "
    }
   },
   "types_to_exclude": [
    "module",
    "function",
    "builtin_function_or_method",
    "instance",
    "_Feature"
   ],
   "window_display": false
  }
 },
 "nbformat": 4,
 "nbformat_minor": 5
}
