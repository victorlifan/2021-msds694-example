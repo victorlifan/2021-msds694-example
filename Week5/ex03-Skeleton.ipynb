{
 "cells": [
  {
   "cell_type": "code",
   "execution_count": 1,
   "id": "1d787618",
   "metadata": {},
   "outputs": [
    {
     "name": "stderr",
     "output_type": "stream",
     "text": [
      "21/12/08 16:04:22 WARN Utils: Your hostname, Fans-MacBook-Air.local resolves to a loopback address: 127.0.0.1; using 10.0.0.115 instead (on interface en0)\n",
      "21/12/08 16:04:22 WARN Utils: Set SPARK_LOCAL_IP if you need to bind to another address\n",
      "Using Spark's default log4j profile: org/apache/spark/log4j-defaults.properties\n",
      "Setting default log level to \"WARN\".\n",
      "To adjust logging level use sc.setLogLevel(newLevel). For SparkR, use setLogLevel(newLevel).\n",
      "21/12/08 16:04:23 WARN NativeCodeLoader: Unable to load native-hadoop library for your platform... using builtin-java classes where applicable\n",
      "21/12/08 16:04:24 WARN Utils: Service 'SparkUI' could not bind on port 4040. Attempting port 4041.\n"
     ]
    }
   ],
   "source": [
    "from pyspark import SparkContext\n",
    "import pyspark\n",
    "\n",
    "conf = pyspark.SparkConf().set(\"spark.driver.host\", \"localhost\")\n",
    "sc = SparkContext.getOrCreate()\n",
    "sc.setLogLevel('OFF')"
   ]
  },
  {
   "cell_type": "code",
   "execution_count": 2,
   "id": "6ba4c97c",
   "metadata": {},
   "outputs": [],
   "source": [
    "supervisor_sf_pair = sc.textFile(\"../data/SF_business/supervisor_sf.tsv\")\\\n",
    "                       .map(lambda x : x.split(\"\\t\"))\\\n",
    "                       .map(lambda x : (x[0], x[1]))\n",
    "zip_biz_pair = sc.textFile(\"../data/SF_business/filtered_registered_business_sf.tsv\")\\\n",
    "                 .map(lambda x : x.split(\"\\t\"))\\\n",
    "                 .map(lambda x : (x[0], x[1:]))"
   ]
  },
  {
   "cell_type": "markdown",
   "id": "8fb173a1",
   "metadata": {},
   "source": [
    "## 1. Using “filtered_registered_business_sf.tsv” and “supervisor_sf.tsv”, list unique business names without a supervisor ordered by name."
   ]
  },
  {
   "cell_type": "code",
   "execution_count": 3,
   "id": "fae8f5b9-dea3-493c-8e10-2f341623c734",
   "metadata": {},
   "outputs": [
    {
     "name": "stderr",
     "output_type": "stream",
     "text": [
      "                                                                                \r"
     ]
    },
    {
     "data": {
      "text/plain": [
       "[('94102', '8'), ('94102', '6')]"
      ]
     },
     "execution_count": 3,
     "metadata": {},
     "output_type": "execute_result"
    }
   ],
   "source": [
    "supervisor_sf_pair.take(2)"
   ]
  },
  {
   "cell_type": "code",
   "execution_count": 4,
   "id": "ae1ab47e-a7d9-4a39-a7dc-c2a79096d670",
   "metadata": {},
   "outputs": [
    {
     "data": {
      "text/plain": [
       "[('94123', ['Tournahu George L', '3301 Broderick St', 'San Francisco', 'CA'])]"
      ]
     },
     "execution_count": 4,
     "metadata": {},
     "output_type": "execute_result"
    }
   ],
   "source": [
    "zip_biz_pair.take(1)"
   ]
  },
  {
   "cell_type": "code",
   "execution_count": 9,
   "id": "1df97ed4-664d-4a39-bdf1-969d909acfcd",
   "metadata": {},
   "outputs": [
    {
     "name": "stderr",
     "output_type": "stream",
     "text": [
      "                                                                                \r"
     ]
    },
    {
     "data": {
      "text/plain": [
       "['\"10up, Inc.\"',\n",
       " '\"11 Main, Inc\"',\n",
       " '\"1490 Chestnut Street Associates, Llc\"',\n",
       " '\"1946 Washington Street, Llc\"',\n",
       " '\"360training.com, Inc.\"']"
      ]
     },
     "execution_count": 9,
     "metadata": {},
     "output_type": "execute_result"
    }
   ],
   "source": [
    "zip_biz_pair.subtractByKey(zip_biz_pair.join(supervisor_sf_pair)).map(lambda x: x[1][0]).distinct().sortBy(lambda x: x).take(5)"
   ]
  },
  {
   "cell_type": "code",
   "execution_count": 3,
   "id": "8de3ec67-d4b7-4209-8cc7-3e58ded8ca76",
   "metadata": {},
   "outputs": [
    {
     "name": "stderr",
     "output_type": "stream",
     "text": [
      "                                                                                \r"
     ]
    },
    {
     "data": {
      "text/plain": [
       "[('94102', '8'),\n",
       " ('94102', '6'),\n",
       " ('94102', '3'),\n",
       " ('94102', '5'),\n",
       " ('94103', '8')]"
      ]
     },
     "execution_count": 3,
     "metadata": {},
     "output_type": "execute_result"
    }
   ],
   "source": [
    "supervisor_sf_pair.take(5)"
   ]
  },
  {
   "cell_type": "code",
   "execution_count": 4,
   "id": "29858486-d2a2-4882-95ce-6c9be7b481d9",
   "metadata": {},
   "outputs": [
    {
     "data": {
      "text/plain": [
       "[('94123', ['Tournahu George L', '3301 Broderick St', 'San Francisco', 'CA']),\n",
       " ('94124',\n",
       "  ['Stephens Institute Inc', '2225 Jerrold Ave', 'San Francisco', 'CA']),\n",
       " ('94105',\n",
       "  ['Stephens Institute Inc', '180 New Montgomery St', 'San Francisco', 'CA']),\n",
       " ('94108', ['Stephens Institute Inc', '540 Powell St', 'San Francisco', 'CA']),\n",
       " ('94107',\n",
       "  ['Stephens Institute Inc', '460 Townsend St', 'San Francisco', 'CA'])]"
      ]
     },
     "execution_count": 4,
     "metadata": {},
     "output_type": "execute_result"
    }
   ],
   "source": [
    "zip_biz_pair.take(5)"
   ]
  },
  {
   "cell_type": "code",
   "execution_count": 14,
   "id": "1dbf893a-ff09-4363-9e11-89fa455a4d48",
   "metadata": {},
   "outputs": [
    {
     "data": {
      "text/plain": [
       "['\"10up, Inc.\"',\n",
       " '\"11 Main, Inc\"',\n",
       " '\"1490 Chestnut Street Associates, Llc\"',\n",
       " '\"1946 Washington Street, Llc\"',\n",
       " '\"360training.com, Inc.\"']"
      ]
     },
     "execution_count": 14,
     "metadata": {},
     "output_type": "execute_result"
    }
   ],
   "source": [
    "zip_biz_pair.subtractByKey(supervisor_sf_pair).values().map(lambda x: x[0]).distinct().sortBy(lambda x: x).take(5)"
   ]
  },
  {
   "cell_type": "markdown",
   "id": "e4a8e23e",
   "metadata": {},
   "source": [
    "## 2. Create pairs of business name and supervisor id ordered by supervisor id (first) and business name (second)."
   ]
  },
  {
   "cell_type": "code",
   "execution_count": 10,
   "id": "cdeeda8a-4d66-42c8-974c-8a918479e37d",
   "metadata": {},
   "outputs": [
    {
     "data": {
      "text/plain": [
       "[('94102',\n",
       "  (['Stephens Institute Inc', '620 Sutter St', 'San Francisco', 'CA'], '8'))]"
      ]
     },
     "execution_count": 10,
     "metadata": {},
     "output_type": "execute_result"
    }
   ],
   "source": [
    "zip_biz_pair.join(supervisor_sf_pair).take(1)"
   ]
  },
  {
   "cell_type": "code",
   "execution_count": 11,
   "id": "b52b39f7-b875-4547-af33-801fb3ca2bf3",
   "metadata": {},
   "outputs": [
    {
     "data": {
      "text/plain": [
       "[('\"1125 Sir Francis Drake Boulevard Operating Company, Llc\"', '1'),\n",
       " ('\"1909 Fillmore, Inc\"', '1'),\n",
       " ('\"2700 Geary Partners, L.p.\"', '1'),\n",
       " ('\"2705 Jackson Street, Dba\"', '1'),\n",
       " ('\"2bkco, Inc.\"', '1')]"
      ]
     },
     "execution_count": 11,
     "metadata": {},
     "output_type": "execute_result"
    }
   ],
   "source": [
    "zip_biz_pair.join(supervisor_sf_pair).map(lambda x: (x[1][0][0],x[1][1])).sortBy(lambda x: (x[1],x[0])).take(5)"
   ]
  },
  {
   "cell_type": "code",
   "execution_count": 19,
   "id": "9a43f70a-2401-4f5b-9450-d99412e9a942",
   "metadata": {},
   "outputs": [
    {
     "data": {
      "text/plain": [
       "[('\"1125 Sir Francis Drake Boulevard Operating Company, Llc\"', '1'),\n",
       " ('\"1909 Fillmore, Inc\"', '1'),\n",
       " ('\"2700 Geary Partners, L.p.\"', '1'),\n",
       " ('\"2705 Jackson Street, Dba\"', '1'),\n",
       " ('\"2bkco, Inc.\"', '1')]"
      ]
     },
     "execution_count": 19,
     "metadata": {},
     "output_type": "execute_result"
    }
   ],
   "source": [
    "zip_biz_pair.join(supervisor_sf_pair).values().map(lambda x: (x[0][0],x[1])).sortBy(lambda x: (x[-1],x[0])).take(5)"
   ]
  },
  {
   "cell_type": "markdown",
   "id": "2b75acff",
   "metadata": {},
   "source": [
    "## 3. Create pairs of business and supervisor id for all the business ordered by supervisor id (first) and business name (second). (although it may not have a district supervisor)."
   ]
  },
  {
   "cell_type": "code",
   "execution_count": 18,
   "id": "9756ee20-2654-4b0f-8b3c-a2fd490adc7b",
   "metadata": {},
   "outputs": [
    {
     "name": "stderr",
     "output_type": "stream",
     "text": [
      "                                                                                \r"
     ]
    },
    {
     "data": {
      "text/plain": [
       "[('\"10up, Inc.\"', None),\n",
       " ('\"11 Main, Inc\"', None),\n",
       " ('\"1490 Chestnut Street Associates, Llc\"', None),\n",
       " ('\"1946 Washington Street, Llc\"', None),\n",
       " ('\"360training.com, Inc.\"', None)]"
      ]
     },
     "execution_count": 18,
     "metadata": {},
     "output_type": "execute_result"
    }
   ],
   "source": [
    "zip_biz_pair.leftOuterJoin(supervisor_sf_pair).map(lambda x: (x[1][0][0],x[1][1])).sortBy(lambda x: x[1] if x[1] else x[0]).take(5)"
   ]
  },
  {
   "cell_type": "code",
   "execution_count": null,
   "id": "332f651e-9f68-4bb7-ae3a-61d1148fd0b4",
   "metadata": {},
   "outputs": [],
   "source": []
  },
  {
   "cell_type": "code",
   "execution_count": null,
   "id": "5e3ff24e-5bc8-448e-827a-bc30df721bad",
   "metadata": {},
   "outputs": [],
   "source": []
  },
  {
   "cell_type": "code",
   "execution_count": 30,
   "id": "45c931ee",
   "metadata": {},
   "outputs": [
    {
     "data": {
      "text/plain": [
       "[('\"10up, Inc.\"', None),\n",
       " ('\"11 Main, Inc\"', None),\n",
       " ('\"1490 Chestnut Street Associates, Llc\"', None),\n",
       " ('\"1946 Washington Street, Llc\"', None),\n",
       " ('\"360training.com, Inc.\"', None),\n",
       " ('\"5 Bars, Llc\"', None),\n",
       " ('\"5 Bars, Llc\"', None),\n",
       " ('\"750 Brannan Street Properties, Llc\"', None),\n",
       " ('\"7x7 Film, Llc\"', None),\n",
       " ('\"8x8, Inc.\"', None)]"
      ]
     },
     "execution_count": 30,
     "metadata": {},
     "output_type": "execute_result"
    }
   ],
   "source": [
    "zip_biz_pair.leftOuterJoin(supervisor_sf_pair).values().map(lambda x: (x[0][0],x[1])).sortBy(lambda x: (x[-1],x[0]) if x[-1] else (x[0],)).take(10)"
   ]
  },
  {
   "cell_type": "code",
   "execution_count": 31,
   "id": "0afc539a-7d21-44e8-8ca0-2053c7ac11d0",
   "metadata": {},
   "outputs": [
    {
     "data": {
      "text/plain": [
       "[('\"10up, Inc.\"', ''),\n",
       " ('\"11 Main, Inc\"', ''),\n",
       " ('\"1490 Chestnut Street Associates, Llc\"', ''),\n",
       " ('\"1946 Washington Street, Llc\"', ''),\n",
       " ('\"360training.com, Inc.\"', ''),\n",
       " ('\"5 Bars, Llc\"', ''),\n",
       " ('\"5 Bars, Llc\"', ''),\n",
       " ('\"750 Brannan Street Properties, Llc\"', ''),\n",
       " ('\"7x7 Film, Llc\"', ''),\n",
       " ('\"8x8, Inc.\"', '')]"
      ]
     },
     "execution_count": 31,
     "metadata": {},
     "output_type": "execute_result"
    }
   ],
   "source": [
    "zip_biz_pair.leftOuterJoin(supervisor_sf_pair).values().map(lambda x: (x[0][0],x[1]) if x[1] else (x[0][0],'')).sortBy(lambda x: (x[-1],x[0])).take(10)"
   ]
  },
  {
   "cell_type": "code",
   "execution_count": 19,
   "id": "8b6d78fa",
   "metadata": {},
   "outputs": [],
   "source": [
    "sc.stop()"
   ]
  },
  {
   "cell_type": "code",
   "execution_count": null,
   "id": "797faf05",
   "metadata": {},
   "outputs": [],
   "source": []
  }
 ],
 "metadata": {
  "kernelspec": {
   "display_name": "Python 3 (ipykernel)",
   "language": "python",
   "name": "python3"
  },
  "language_info": {
   "codemirror_mode": {
    "name": "ipython",
    "version": 3
   },
   "file_extension": ".py",
   "mimetype": "text/x-python",
   "name": "python",
   "nbconvert_exporter": "python",
   "pygments_lexer": "ipython3",
   "version": "3.8.12"
  },
  "varInspector": {
   "cols": {
    "lenName": 16,
    "lenType": 16,
    "lenVar": 40
   },
   "kernels_config": {
    "python": {
     "delete_cmd_postfix": "",
     "delete_cmd_prefix": "del ",
     "library": "var_list.py",
     "varRefreshCmd": "print(var_dic_list())"
    },
    "r": {
     "delete_cmd_postfix": ") ",
     "delete_cmd_prefix": "rm(",
     "library": "var_list.r",
     "varRefreshCmd": "cat(var_dic_list()) "
    }
   },
   "types_to_exclude": [
    "module",
    "function",
    "builtin_function_or_method",
    "instance",
    "_Feature"
   ],
   "window_display": false
  }
 },
 "nbformat": 4,
 "nbformat_minor": 5
}
