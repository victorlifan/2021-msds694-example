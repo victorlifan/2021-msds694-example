{
 "cells": [
  {
   "cell_type": "code",
   "execution_count": 1,
   "id": "7339c626",
   "metadata": {},
   "outputs": [
    {
     "name": "stderr",
     "output_type": "stream",
     "text": [
      "21/11/19 11:33:11 WARN Utils: Your hostname, Fans-MacBook-Air.local resolves to a loopback address: 127.0.0.1; using 10.1.143.47 instead (on interface en0)\n",
      "21/11/19 11:33:11 WARN Utils: Set SPARK_LOCAL_IP if you need to bind to another address\n",
      "Using Spark's default log4j profile: org/apache/spark/log4j-defaults.properties\n",
      "Setting default log level to \"WARN\".\n",
      "To adjust logging level use sc.setLogLevel(newLevel). For SparkR, use setLogLevel(newLevel).\n",
      "21/11/19 11:33:12 WARN NativeCodeLoader: Unable to load native-hadoop library for your platform... using builtin-java classes where applicable\n",
      "21/11/19 11:33:13 WARN Utils: Service 'SparkUI' could not bind on port 4040. Attempting port 4041.\n",
      "21/11/19 11:33:13 WARN Utils: Service 'SparkUI' could not bind on port 4041. Attempting port 4042.\n",
      "21/11/19 11:33:13 WARN Utils: Service 'SparkUI' could not bind on port 4042. Attempting port 4043.\n"
     ]
    }
   ],
   "source": [
    "from pyspark import SparkContext\n",
    "import pyspark\n",
    "\n",
    "conf = pyspark.SparkConf().set(\"spark.driver.host\", \"localhost\")\n",
    "sc = SparkContext.getOrCreate()\n",
    "sc.setLogLevel('OFF')"
   ]
  },
  {
   "cell_type": "code",
   "execution_count": 2,
   "id": "3d8a8740",
   "metadata": {},
   "outputs": [],
   "source": [
    "supervisor_sf_pair = sc.textFile(\"../data/SF_business/supervisor_sf.tsv\")\\\n",
    "                       .map(lambda x : x.split(\"\\t\"))\\\n",
    "                       .map(lambda x : (x[0], x[1]))"
   ]
  },
  {
   "cell_type": "code",
   "execution_count": 3,
   "id": "13ae62c2",
   "metadata": {},
   "outputs": [],
   "source": [
    "zip_biz_pair = sc.textFile(\"../data/SF_business/filtered_registered_business_sf.tsv\")\\\n",
    "                 .map(lambda x : x.split(\"\\t\"))\\\n",
    "                 .map(lambda x : (x[0], x[1:]))"
   ]
  },
  {
   "cell_type": "markdown",
   "id": "7d3ba8ac",
   "metadata": {},
   "source": [
    "## 1. Return any five distinct  zip code in zip_biz_pair"
   ]
  },
  {
   "cell_type": "code",
   "execution_count": 4,
   "id": "73572bd3-68bc-46c5-ab8c-a468a0915520",
   "metadata": {},
   "outputs": [
    {
     "name": "stderr",
     "output_type": "stream",
     "text": [
      "                                                                                \r"
     ]
    },
    {
     "data": {
      "text/plain": [
       "[('94123', ['Tournahu George L', '3301 Broderick St', 'San Francisco', 'CA']),\n",
       " ('94124',\n",
       "  ['Stephens Institute Inc', '2225 Jerrold Ave', 'San Francisco', 'CA']),\n",
       " ('94105',\n",
       "  ['Stephens Institute Inc', '180 New Montgomery St', 'San Francisco', 'CA']),\n",
       " ('94108', ['Stephens Institute Inc', '540 Powell St', 'San Francisco', 'CA']),\n",
       " ('94107',\n",
       "  ['Stephens Institute Inc', '460 Townsend St', 'San Francisco', 'CA'])]"
      ]
     },
     "execution_count": 4,
     "metadata": {},
     "output_type": "execute_result"
    }
   ],
   "source": [
    "zip_biz_pair.take(5)"
   ]
  },
  {
   "cell_type": "code",
   "execution_count": 6,
   "id": "382b27ec",
   "metadata": {},
   "outputs": [
    {
     "data": {
      "text/plain": [
       "['94123', '94124', '94105', '94108', '94107']"
      ]
     },
     "execution_count": 6,
     "metadata": {},
     "output_type": "execute_result"
    }
   ],
   "source": [
    "zip_biz_pair.keys().take(5)"
   ]
  },
  {
   "cell_type": "markdown",
   "id": "6240874e",
   "metadata": {},
   "source": [
    "## 2. Return any five distinct city names."
   ]
  },
  {
   "cell_type": "code",
   "execution_count": 10,
   "id": "8523f5fb",
   "metadata": {},
   "outputs": [
    {
     "data": {
      "text/plain": [
       "['San Francisco', 'Hayward', 'Redwood+city', 'Daly+city', 'Mexico']"
      ]
     },
     "execution_count": 10,
     "metadata": {},
     "output_type": "execute_result"
    }
   ],
   "source": [
    "zip_biz_pair.values().map(lambda x: x[2]).distinct().take(5)"
   ]
  },
  {
   "cell_type": "markdown",
   "id": "de547c1c",
   "metadata": {},
   "source": [
    "## 3. Return five distinct (zip code, city name) pairs ordered by zip code, where zip code has 5 digits."
   ]
  },
  {
   "cell_type": "code",
   "execution_count": 21,
   "id": "259be47a",
   "metadata": {},
   "outputs": [],
   "source": [
    "distinct_zip_city_pairs = zip_biz_pair.filter(lambda x: len(x[0])==5).mapValues(lambda x: x[2]).sortByKey().distinct()"
   ]
  },
  {
   "cell_type": "code",
   "execution_count": 22,
   "id": "f25c474c",
   "metadata": {},
   "outputs": [
    {
     "data": {
      "text/plain": [
       "[('10001', 'New+york'),\n",
       " ('10004', 'New+york'),\n",
       " ('10005', 'New York'),\n",
       " ('10006', 'New York'),\n",
       " ('10007', 'New+york')]"
      ]
     },
     "execution_count": 22,
     "metadata": {},
     "output_type": "execute_result"
    }
   ],
   "source": [
    "distinct_zip_city_pairs.take(5)"
   ]
  },
  {
   "cell_type": "markdown",
   "id": "28007060",
   "metadata": {},
   "source": [
    "## 4. Find the zip associated with the most city names\n",
    "* which one is more efficient ??\n",
    "    - zip_associated_with_multiple_cities_1  $vs$ zip_associated_with_multiple_cities_2"
   ]
  },
  {
   "cell_type": "code",
   "execution_count": null,
   "id": "c2d4ec75",
   "metadata": {},
   "outputs": [],
   "source": [
    "zip_biz_pair.groupByKey()"
   ]
  },
  {
   "cell_type": "code",
   "execution_count": null,
   "id": "a9e28ea6",
   "metadata": {},
   "outputs": [],
   "source": []
  },
  {
   "cell_type": "markdown",
   "id": "035993e3",
   "metadata": {},
   "source": [
    "### Which one is more efficient? v1 or v2??"
   ]
  },
  {
   "cell_type": "markdown",
   "id": "fb4275ea",
   "metadata": {},
   "source": [
    "#### "
   ]
  },
  {
   "cell_type": "markdown",
   "id": "db5684b1",
   "metadata": {},
   "source": [
    "## 5. Create zip_city_count_names which includes (zip, (count, the list of names))"
   ]
  },
  {
   "cell_type": "code",
   "execution_count": null,
   "id": "1c669be8",
   "metadata": {},
   "outputs": [],
   "source": [
    "zip_city_count_names = "
   ]
  },
  {
   "cell_type": "code",
   "execution_count": null,
   "id": "b8850ae3",
   "metadata": {},
   "outputs": [],
   "source": [
    "zip_city_count_names.take(1)"
   ]
  },
  {
   "cell_type": "markdown",
   "id": "c8d7bcc9",
   "metadata": {},
   "source": [
    "## 6. convert zip_city_count_names to (zip, city_name)"
   ]
  },
  {
   "cell_type": "code",
   "execution_count": null,
   "id": "9cc8a7b2",
   "metadata": {},
   "outputs": [],
   "source": [
    "zip_city_count_names."
   ]
  },
  {
   "cell_type": "code",
   "execution_count": null,
   "id": "c81f085a",
   "metadata": {},
   "outputs": [],
   "source": [
    "sc.stop()"
   ]
  },
  {
   "cell_type": "code",
   "execution_count": null,
   "id": "49a2fc45",
   "metadata": {},
   "outputs": [],
   "source": []
  }
 ],
 "metadata": {
  "kernelspec": {
   "display_name": "Python 3 (ipykernel)",
   "language": "python",
   "name": "python3"
  },
  "language_info": {
   "codemirror_mode": {
    "name": "ipython",
    "version": 3
   },
   "file_extension": ".py",
   "mimetype": "text/x-python",
   "name": "python",
   "nbconvert_exporter": "python",
   "pygments_lexer": "ipython3",
   "version": "3.8.12"
  },
  "varInspector": {
   "cols": {
    "lenName": 16,
    "lenType": 16,
    "lenVar": 40
   },
   "kernels_config": {
    "python": {
     "delete_cmd_postfix": "",
     "delete_cmd_prefix": "del ",
     "library": "var_list.py",
     "varRefreshCmd": "print(var_dic_list())"
    },
    "r": {
     "delete_cmd_postfix": ") ",
     "delete_cmd_prefix": "rm(",
     "library": "var_list.r",
     "varRefreshCmd": "cat(var_dic_list()) "
    }
   },
   "types_to_exclude": [
    "module",
    "function",
    "builtin_function_or_method",
    "instance",
    "_Feature"
   ],
   "window_display": false
  }
 },
 "nbformat": 4,
 "nbformat_minor": 5
}
