{
 "cells": [
  {
   "cell_type": "code",
   "execution_count": 1,
   "id": "7339c626",
   "metadata": {},
   "outputs": [
    {
     "name": "stderr",
     "output_type": "stream",
     "text": [
      "21/12/08 15:12:27 WARN Utils: Your hostname, Fans-MacBook-Air.local resolves to a loopback address: 127.0.0.1; using 10.0.0.115 instead (on interface en0)\n",
      "21/12/08 15:12:27 WARN Utils: Set SPARK_LOCAL_IP if you need to bind to another address\n",
      "Using Spark's default log4j profile: org/apache/spark/log4j-defaults.properties\n",
      "Setting default log level to \"WARN\".\n",
      "To adjust logging level use sc.setLogLevel(newLevel). For SparkR, use setLogLevel(newLevel).\n",
      "21/12/08 15:12:28 WARN NativeCodeLoader: Unable to load native-hadoop library for your platform... using builtin-java classes where applicable\n",
      "21/12/08 15:12:29 WARN Utils: Service 'SparkUI' could not bind on port 4040. Attempting port 4041.\n",
      "21/12/08 15:12:29 WARN Utils: Service 'SparkUI' could not bind on port 4041. Attempting port 4042.\n"
     ]
    }
   ],
   "source": [
    "from pyspark import SparkContext\n",
    "import pyspark\n",
    "\n",
    "conf = pyspark.SparkConf().set(\"spark.driver.host\", \"localhost\")\n",
    "sc = SparkContext.getOrCreate()\n",
    "sc.setLogLevel('OFF')"
   ]
  },
  {
   "cell_type": "code",
   "execution_count": 2,
   "id": "3d8a8740",
   "metadata": {},
   "outputs": [],
   "source": [
    "supervisor_sf_pair = sc.textFile(\"../data/SF_business/supervisor_sf.tsv\")\\\n",
    "                       .map(lambda x : x.split(\"\\t\"))\\\n",
    "                       .map(lambda x : (x[0], x[1]))"
   ]
  },
  {
   "cell_type": "code",
   "execution_count": 3,
   "id": "13ae62c2",
   "metadata": {},
   "outputs": [],
   "source": [
    "zip_biz_pair = sc.textFile(\"../data/SF_business/filtered_registered_business_sf.tsv\")\\\n",
    "                 .map(lambda x : x.split(\"\\t\"))\\\n",
    "                 .map(lambda x : (x[0], x[1:]))"
   ]
  },
  {
   "cell_type": "markdown",
   "id": "7d3ba8ac",
   "metadata": {},
   "source": [
    "## 1. Return any five distinct  zip code in zip_biz_pair"
   ]
  },
  {
   "cell_type": "code",
   "execution_count": 4,
   "id": "5dc6015b-eea7-49f9-97a9-611e979d7243",
   "metadata": {},
   "outputs": [
    {
     "name": "stderr",
     "output_type": "stream",
     "text": [
      "                                                                                \r"
     ]
    },
    {
     "data": {
      "text/plain": [
       "[('94123', ['Tournahu George L', '3301 Broderick St', 'San Francisco', 'CA']),\n",
       " ('94124',\n",
       "  ['Stephens Institute Inc', '2225 Jerrold Ave', 'San Francisco', 'CA'])]"
      ]
     },
     "execution_count": 4,
     "metadata": {},
     "output_type": "execute_result"
    }
   ],
   "source": [
    "zip_biz_pair.take(2)"
   ]
  },
  {
   "cell_type": "code",
   "execution_count": 5,
   "id": "b4419e17-5271-4a3b-a0cf-a94ad997ac72",
   "metadata": {},
   "outputs": [
    {
     "name": "stderr",
     "output_type": "stream",
     "text": [
      "                                                                                \r"
     ]
    },
    {
     "data": {
      "text/plain": [
       "['94124', '94108', '94102', '94133', '94111']"
      ]
     },
     "execution_count": 5,
     "metadata": {},
     "output_type": "execute_result"
    }
   ],
   "source": [
    "zip_biz_pair.keys().distinct().take(5)"
   ]
  },
  {
   "cell_type": "markdown",
   "id": "6240874e",
   "metadata": {
    "tags": []
   },
   "source": [
    "## 2. Return any five distinct city names."
   ]
  },
  {
   "cell_type": "code",
   "execution_count": 16,
   "id": "83f65eb1-2f91-4397-96ad-c53a2bff40b0",
   "metadata": {},
   "outputs": [
    {
     "data": {
      "text/plain": [
       "['San Francisco', 'Hayward', 'Redwood+city', 'Daly+city', 'Mexico']"
      ]
     },
     "execution_count": 16,
     "metadata": {},
     "output_type": "execute_result"
    }
   ],
   "source": [
    "zip_biz_pair.values().map(lambda x: x[2]).distinct().take(5)"
   ]
  },
  {
   "cell_type": "markdown",
   "id": "de547c1c",
   "metadata": {
    "tags": []
   },
   "source": [
    "## 3. Return five distinct (zip code, city name) pairs ordered by zip code, where zip code has 5 digits."
   ]
  },
  {
   "cell_type": "code",
   "execution_count": 24,
   "id": "259be47a",
   "metadata": {},
   "outputs": [],
   "source": [
    "distinct_zip_city_pairs = zip_biz_pair.filter(lambda x: len(x[0])==5).mapValues(lambda x: x[2]).distinct().sortByKey()"
   ]
  },
  {
   "cell_type": "code",
   "execution_count": 25,
   "id": "f25c474c",
   "metadata": {},
   "outputs": [
    {
     "data": {
      "text/plain": [
       "[('10001', 'New+york'),\n",
       " ('10002', 'New+york'),\n",
       " ('10003', 'New+york'),\n",
       " ('10004', 'New+york'),\n",
       " ('10004', 'New York')]"
      ]
     },
     "execution_count": 25,
     "metadata": {},
     "output_type": "execute_result"
    }
   ],
   "source": [
    "distinct_zip_city_pairs.take(5)"
   ]
  },
  {
   "cell_type": "markdown",
   "id": "28007060",
   "metadata": {},
   "source": [
    "## 4. Find the zip associated with the most city names\n",
    "* which one is more efficient ??\n",
    "    - zip_associated_with_multiple_cities_1  $vs$ zip_associated_with_multiple_cities_2"
   ]
  },
  {
   "cell_type": "code",
   "execution_count": 69,
   "id": "4b152f6b-56f2-4534-b766-f5aed777d16d",
   "metadata": {},
   "outputs": [
    {
     "data": {
      "text/plain": [
       "[('94080', 40)]"
      ]
     },
     "execution_count": 69,
     "metadata": {},
     "output_type": "execute_result"
    }
   ],
   "source": [
    "distinct_zip_city_pairs.mapValues(lambda x: 1).reduceByKey(lambda x,y: x+y).sortBy(lambda x: x[1],ascending=False).take(1)"
   ]
  },
  {
   "cell_type": "code",
   "execution_count": 70,
   "id": "c2d4ec75",
   "metadata": {},
   "outputs": [
    {
     "data": {
      "text/plain": [
       "[('94080', 40)]"
      ]
     },
     "execution_count": 70,
     "metadata": {},
     "output_type": "execute_result"
    }
   ],
   "source": [
    "distinct_zip_city_pairs.groupByKey().mapValues(len).sortBy(lambda x: x[1],ascending=False).take(1)"
   ]
  },
  {
   "cell_type": "markdown",
   "id": "035993e3",
   "metadata": {},
   "source": [
    "### Which one is more efficient? v1 or v2??"
   ]
  },
  {
   "cell_type": "markdown",
   "id": "fb4275ea",
   "metadata": {},
   "source": [
    "#### "
   ]
  },
  {
   "cell_type": "markdown",
   "id": "db5684b1",
   "metadata": {},
   "source": [
    "## 5. Create zip_city_count_names which includes (zip, (count, the list of names))"
   ]
  },
  {
   "cell_type": "code",
   "execution_count": 83,
   "id": "0dffb971-be93-4f6e-9104-5cc60bc1f9d0",
   "metadata": {},
   "outputs": [
    {
     "data": {
      "text/plain": [
       "[('10001', 'New+york'),\n",
       " ('10002', 'New+york'),\n",
       " ('10003', 'New+york'),\n",
       " ('10004', 'New+york'),\n",
       " ('10004', 'New York')]"
      ]
     },
     "execution_count": 83,
     "metadata": {},
     "output_type": "execute_result"
    }
   ],
   "source": [
    "distinct_zip_city_pairs.take(5)"
   ]
  },
  {
   "cell_type": "code",
   "execution_count": 99,
   "id": "1c669be8",
   "metadata": {},
   "outputs": [],
   "source": [
    "zip_city_count_names = distinct_zip_city_pairs.mapValues(lambda x: (1,[x])).reduceByKey(lambda x,y: (x[0]+y[0],sorted(x[1]+y[1]))).sortBy(lambda x: x[1][0],ascending=False)"
   ]
  },
  {
   "cell_type": "code",
   "execution_count": 100,
   "id": "b8850ae3",
   "metadata": {
    "tags": []
   },
   "outputs": [
    {
     "data": {
      "text/plain": [
       "[('94080',\n",
       "  (40,\n",
       "   ['Daly City',\n",
       "    'S San Fran',\n",
       "    'S San Francisco',\n",
       "    'S+san+fran',\n",
       "    'S+san+francisco',\n",
       "    'S. San Francisco',\n",
       "    'S.+san+francisco',\n",
       "    'San Francisco',\n",
       "    'San+bruno',\n",
       "    'San+carlos',\n",
       "    'San+francisco',\n",
       "    'So San Francisco',\n",
       "    'So+.+san+francisco',\n",
       "    'So+san+francisco',\n",
       "    'So.+san+francisco',\n",
       "    'So.san+francisco',\n",
       "    'Soith+san+francisco',\n",
       "    'Souht+san+francisco',\n",
       "    'Sout+san+francisco',\n",
       "    'South San Francisco',\n",
       "    'South San Fransico',\n",
       "    'South Sanfrancisco',\n",
       "    'South++san+francisco',\n",
       "    'South+san+fracisco',\n",
       "    'South+san+fran',\n",
       "    'South+san+franc',\n",
       "    'South+san+francisc',\n",
       "    'South+san+francisco',\n",
       "    'South+san+francisico',\n",
       "    'South+san+francsico',\n",
       "    'South+san+franisco',\n",
       "    'South+san+franscisco',\n",
       "    'South+san+fransisco',\n",
       "    'South+san.francisco',\n",
       "    'South+sanfrancisco',\n",
       "    'South+sanfranciso',\n",
       "    'South+sanfransico',\n",
       "    'South+sf',\n",
       "    'Ssf',\n",
       "    'Suth+san+francisco']))]"
      ]
     },
     "execution_count": 100,
     "metadata": {},
     "output_type": "execute_result"
    }
   ],
   "source": [
    "zip_city_count_names.take(1)"
   ]
  },
  {
   "cell_type": "markdown",
   "id": "c8d7bcc9",
   "metadata": {},
   "source": [
    "## 6. convert zip_city_count_names to (zip, city_name)"
   ]
  },
  {
   "cell_type": "code",
   "execution_count": 102,
   "id": "9cc8a7b2",
   "metadata": {},
   "outputs": [
    {
     "data": {
      "text/plain": [
       "[('94080', 'Daly City'),\n",
       " ('94080', 'S San Fran'),\n",
       " ('94080', 'S San Francisco'),\n",
       " ('94080', 'S+san+fran'),\n",
       " ('94080', 'S+san+francisco')]"
      ]
     },
     "execution_count": 102,
     "metadata": {},
     "output_type": "execute_result"
    }
   ],
   "source": [
    "zip_city_count_names.flatMapValues(lambda x: x[1]).take(5)"
   ]
  },
  {
   "cell_type": "code",
   "execution_count": 10,
   "id": "c81f085a",
   "metadata": {},
   "outputs": [],
   "source": [
    "sc.stop()"
   ]
  },
  {
   "cell_type": "code",
   "execution_count": null,
   "id": "49a2fc45",
   "metadata": {},
   "outputs": [],
   "source": []
  }
 ],
 "metadata": {
  "kernelspec": {
   "display_name": "Python 3 (ipykernel)",
   "language": "python",
   "name": "python3"
  },
  "language_info": {
   "codemirror_mode": {
    "name": "ipython",
    "version": 3
   },
   "file_extension": ".py",
   "mimetype": "text/x-python",
   "name": "python",
   "nbconvert_exporter": "python",
   "pygments_lexer": "ipython3",
   "version": "3.8.12"
  },
  "varInspector": {
   "cols": {
    "lenName": 16,
    "lenType": 16,
    "lenVar": 40
   },
   "kernels_config": {
    "python": {
     "delete_cmd_postfix": "",
     "delete_cmd_prefix": "del ",
     "library": "var_list.py",
     "varRefreshCmd": "print(var_dic_list())"
    },
    "r": {
     "delete_cmd_postfix": ") ",
     "delete_cmd_prefix": "rm(",
     "library": "var_list.r",
     "varRefreshCmd": "cat(var_dic_list()) "
    }
   },
   "types_to_exclude": [
    "module",
    "function",
    "builtin_function_or_method",
    "instance",
    "_Feature"
   ],
   "window_display": false
  }
 },
 "nbformat": 4,
 "nbformat_minor": 5
}
