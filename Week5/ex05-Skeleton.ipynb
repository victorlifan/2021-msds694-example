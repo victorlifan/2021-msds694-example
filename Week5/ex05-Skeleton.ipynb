{
 "cells": [
  {
   "cell_type": "code",
   "execution_count": 39,
   "id": "7ad699fe",
   "metadata": {},
   "outputs": [],
   "source": [
    "from pyspark import SparkContext\n",
    "import pyspark\n",
    "\n",
    "conf = pyspark.SparkConf().set(\"spark.driver.host\", \"localhost\")\n",
    "sc = SparkContext.getOrCreate()\n",
    "sc.setLogLevel('OFF')"
   ]
  },
  {
   "cell_type": "markdown",
   "id": "fa2e6ad6",
   "metadata": {},
   "source": [
    "## Count the number of lines in the files in data/Bing_Searches"
   ]
  },
  {
   "cell_type": "code",
   "execution_count": 49,
   "id": "67fe1f26",
   "metadata": {
    "tags": []
   },
   "outputs": [
    {
     "name": "stderr",
     "output_type": "stream",
     "text": [
      "                                                                                \r"
     ]
    },
    {
     "data": {
      "text/plain": [
       "[['2021-06-01',\n",
       "  'coronavirus statistiques',\n",
       "  'False',\n",
       "  'Ile-De-France',\n",
       "  'France',\n",
       "  '1'],\n",
       " ['2021-06-01', 'amelipro', 'True', 'Normandy', 'France', '6']]"
      ]
     },
     "execution_count": 49,
     "metadata": {},
     "output_type": "execute_result"
    }
   ],
   "source": [
    "# filter duplicated values\n",
    "values = sc.wholeTextFiles('../data/Bing_Searches').values().distinct()\n",
    "# split lines then columns\n",
    "row_rdd = values.map(lambda x: x.split('\\n')).flatMap(lambda x: x).map(lambda x: x.split('\\t'))\n",
    "row_rdd.take(2)"
   ]
  },
  {
   "cell_type": "code",
   "execution_count": 33,
   "id": "ab054697-8b27-4416-aec8-1c2256a37273",
   "metadata": {},
   "outputs": [
    {
     "data": {
      "text/plain": [
       "[['2021-06-01',\n",
       "  'coronavirus statistiques',\n",
       "  'False',\n",
       "  'Ile-De-France',\n",
       "  'France',\n",
       "  '1'],\n",
       " ['2021-06-01', 'amelipro', 'True', 'Normandy', 'France', '6']]"
      ]
     },
     "execution_count": 33,
     "metadata": {},
     "output_type": "execute_result"
    }
   ],
   "source": [
    "# same as above but using textFile\n",
    "sc.textFile('../data/Bing_Searches').map(lambda x: x.split('\\t')).take(2)"
   ]
  },
  {
   "cell_type": "code",
   "execution_count": 48,
   "id": "e97c59a1-4456-40ff-a907-dada1c5fefe4",
   "metadata": {},
   "outputs": [
    {
     "name": "stderr",
     "output_type": "stream",
     "text": [
      "                                                                                \r"
     ]
    },
    {
     "data": {
      "text/plain": [
       "997660"
      ]
     },
     "execution_count": 48,
     "metadata": {},
     "output_type": "execute_result"
    }
   ],
   "source": [
    "sc.wholeTextFiles('../data/Bing_Searches').mapValues(lambda x: x.split('\\n')).values().flatMap(lambda x: x).map(lambda x: x.split('\\t')).count()"
   ]
  },
  {
   "cell_type": "code",
   "execution_count": 19,
   "id": "5abcf36d",
   "metadata": {},
   "outputs": [
    {
     "name": "stderr",
     "output_type": "stream",
     "text": [
      "                                                                                \r"
     ]
    },
    {
     "data": {
      "text/plain": [
       "997660"
      ]
     },
     "execution_count": 19,
     "metadata": {},
     "output_type": "execute_result"
    }
   ],
   "source": [
    "file_content.count()"
   ]
  },
  {
   "cell_type": "code",
   "execution_count": 50,
   "id": "7d6bbdc0",
   "metadata": {},
   "outputs": [],
   "source": [
    "sc.stop()"
   ]
  },
  {
   "cell_type": "code",
   "execution_count": null,
   "id": "9e6e3b39",
   "metadata": {},
   "outputs": [],
   "source": []
  }
 ],
 "metadata": {
  "kernelspec": {
   "display_name": "Python 3 (ipykernel)",
   "language": "python",
   "name": "python3"
  },
  "language_info": {
   "codemirror_mode": {
    "name": "ipython",
    "version": 3
   },
   "file_extension": ".py",
   "mimetype": "text/x-python",
   "name": "python",
   "nbconvert_exporter": "python",
   "pygments_lexer": "ipython3",
   "version": "3.8.12"
  },
  "varInspector": {
   "cols": {
    "lenName": 16,
    "lenType": 16,
    "lenVar": 40
   },
   "kernels_config": {
    "python": {
     "delete_cmd_postfix": "",
     "delete_cmd_prefix": "del ",
     "library": "var_list.py",
     "varRefreshCmd": "print(var_dic_list())"
    },
    "r": {
     "delete_cmd_postfix": ") ",
     "delete_cmd_prefix": "rm(",
     "library": "var_list.r",
     "varRefreshCmd": "cat(var_dic_list()) "
    }
   },
   "types_to_exclude": [
    "module",
    "function",
    "builtin_function_or_method",
    "instance",
    "_Feature"
   ],
   "window_display": false
  }
 },
 "nbformat": 4,
 "nbformat_minor": 5
}
