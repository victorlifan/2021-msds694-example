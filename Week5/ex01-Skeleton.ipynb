{
 "cells": [
  {
   "cell_type": "code",
   "execution_count": null,
   "id": "1d787618",
   "metadata": {},
   "outputs": [],
   "source": [
    "from pyspark import SparkContext\n",
    "import pyspark\n",
    "\n",
    "conf = pyspark.SparkConf().set(\"spark.driver.host\", \"localhost\")\n",
    "sc = SparkContext.getOrCreate()\n",
    "sc.setLogLevel('OFF')"
   ]
  },
  {
   "cell_type": "markdown",
   "id": "cc4e7f47",
   "metadata": {},
   "source": [
    "## Load data from SF_business/supervisor_sf.tsv and SF_business/filtered_registered_business_sf.tsv to create"
   ]
  },
  {
   "cell_type": "markdown",
   "id": "f321b731",
   "metadata": {},
   "source": [
    "## 1. Pair RDD of (zip, supervisor_id) in a (string, string) format."
   ]
  },
  {
   "cell_type": "code",
   "execution_count": null,
   "id": "6740a8d6",
   "metadata": {},
   "outputs": [],
   "source": [
    "supervisor_sf_pair = "
   ]
  },
  {
   "cell_type": "code",
   "execution_count": null,
   "id": "55d80296",
   "metadata": {},
   "outputs": [],
   "source": [
    "supervisor_sf_pair.take(5)"
   ]
  },
  {
   "cell_type": "markdown",
   "id": "b3cb1369",
   "metadata": {},
   "source": [
    "## 2. Pair RDD of (zip, [name, street, city, …]) in a (string, array) format."
   ]
  },
  {
   "cell_type": "code",
   "execution_count": null,
   "id": "211f121a",
   "metadata": {},
   "outputs": [],
   "source": [
    "zip_biz_pair = "
   ]
  },
  {
   "cell_type": "code",
   "execution_count": null,
   "id": "5dcb186f",
   "metadata": {},
   "outputs": [],
   "source": [
    "zip_biz_pair.take(5)"
   ]
  },
  {
   "cell_type": "code",
   "execution_count": null,
   "id": "8b6d78fa",
   "metadata": {},
   "outputs": [],
   "source": [
    "sc.stop()"
   ]
  },
  {
   "cell_type": "code",
   "execution_count": null,
   "id": "797faf05",
   "metadata": {},
   "outputs": [],
   "source": []
  }
 ],
 "metadata": {
  "kernelspec": {
   "display_name": "Python 3 (ipykernel)",
   "language": "python",
   "name": "python3"
  },
  "language_info": {
   "codemirror_mode": {
    "name": "ipython",
    "version": 3
   },
   "file_extension": ".py",
   "mimetype": "text/x-python",
   "name": "python",
   "nbconvert_exporter": "python",
   "pygments_lexer": "ipython3",
   "version": "3.7.11"
  },
  "varInspector": {
   "cols": {
    "lenName": 16,
    "lenType": 16,
    "lenVar": 40
   },
   "kernels_config": {
    "python": {
     "delete_cmd_postfix": "",
     "delete_cmd_prefix": "del ",
     "library": "var_list.py",
     "varRefreshCmd": "print(var_dic_list())"
    },
    "r": {
     "delete_cmd_postfix": ") ",
     "delete_cmd_prefix": "rm(",
     "library": "var_list.r",
     "varRefreshCmd": "cat(var_dic_list()) "
    }
   },
   "types_to_exclude": [
    "module",
    "function",
    "builtin_function_or_method",
    "instance",
    "_Feature"
   ],
   "window_display": false
  }
 },
 "nbformat": 4,
 "nbformat_minor": 5
}
