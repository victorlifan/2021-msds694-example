{
 "cells": [
  {
   "cell_type": "code",
   "execution_count": 2,
   "id": "1d787618",
   "metadata": {},
   "outputs": [
    {
     "name": "stderr",
     "output_type": "stream",
     "text": [
      "21/11/24 15:38:52 WARN Utils: Your hostname, Fans-MacBook-Air.local resolves to a loopback address: 127.0.0.1; using 172.31.3.133 instead (on interface en0)\n",
      "21/11/24 15:38:52 WARN Utils: Set SPARK_LOCAL_IP if you need to bind to another address\n",
      "Using Spark's default log4j profile: org/apache/spark/log4j-defaults.properties\n",
      "Setting default log level to \"WARN\".\n",
      "To adjust logging level use sc.setLogLevel(newLevel). For SparkR, use setLogLevel(newLevel).\n",
      "21/11/24 15:38:53 WARN NativeCodeLoader: Unable to load native-hadoop library for your platform... using builtin-java classes where applicable\n",
      "21/11/24 15:38:54 WARN Utils: Service 'SparkUI' could not bind on port 4040. Attempting port 4041.\n",
      "21/11/24 15:38:54 WARN Utils: Service 'SparkUI' could not bind on port 4041. Attempting port 4042.\n"
     ]
    }
   ],
   "source": [
    "from pyspark import SparkContext\n",
    "import pyspark\n",
    "\n",
    "conf = pyspark.SparkConf().set(\"spark.driver.host\", \"localhost\")\n",
    "sc = SparkContext.getOrCreate()\n",
    "sc.setLogLevel('OFF')"
   ]
  },
  {
   "cell_type": "markdown",
   "id": "cc4e7f47",
   "metadata": {},
   "source": [
    "## Load data from SF_business/supervisor_sf.tsv and SF_business/filtered_registered_business_sf.tsv to create"
   ]
  },
  {
   "cell_type": "markdown",
   "id": "f321b731",
   "metadata": {},
   "source": [
    "## 1. Pair RDD of (zip, supervisor_id) in a (string, string) format."
   ]
  },
  {
   "cell_type": "code",
   "execution_count": 3,
   "id": "6740a8d6",
   "metadata": {},
   "outputs": [],
   "source": [
    "supervisor_sf_pair = sc.textFile('../data/SF_business/supervisor_sf.tsv').map(lambda x: x.split('\\t')).map(lambda x:(x[0],x[1]))"
   ]
  },
  {
   "cell_type": "code",
   "execution_count": 4,
   "id": "55d80296",
   "metadata": {},
   "outputs": [
    {
     "name": "stderr",
     "output_type": "stream",
     "text": [
      "                                                                                \r"
     ]
    },
    {
     "data": {
      "text/plain": [
       "[('94102', '8'),\n",
       " ('94102', '6'),\n",
       " ('94102', '3'),\n",
       " ('94102', '5'),\n",
       " ('94103', '8')]"
      ]
     },
     "execution_count": 4,
     "metadata": {},
     "output_type": "execute_result"
    }
   ],
   "source": [
    "supervisor_sf_pair.take(5)"
   ]
  },
  {
   "cell_type": "markdown",
   "id": "b3cb1369",
   "metadata": {},
   "source": [
    "## 2. Pair RDD of (zip, [name, street, city, …]) in a (string, array) format."
   ]
  },
  {
   "cell_type": "code",
   "execution_count": 7,
   "id": "211f121a",
   "metadata": {},
   "outputs": [],
   "source": [
    "zip_biz_pair = sc.textFile('../data/SF_business/filtered_registered_business_sf.tsv').map(lambda x: x.split('\\t')).map(lambda x:(x[0],x[1:]))"
   ]
  },
  {
   "cell_type": "code",
   "execution_count": 8,
   "id": "5dcb186f",
   "metadata": {},
   "outputs": [
    {
     "data": {
      "text/plain": [
       "[('94123', ['Tournahu George L', '3301 Broderick St', 'San Francisco', 'CA']),\n",
       " ('94124',\n",
       "  ['Stephens Institute Inc', '2225 Jerrold Ave', 'San Francisco', 'CA']),\n",
       " ('94105',\n",
       "  ['Stephens Institute Inc', '180 New Montgomery St', 'San Francisco', 'CA']),\n",
       " ('94108', ['Stephens Institute Inc', '540 Powell St', 'San Francisco', 'CA']),\n",
       " ('94107',\n",
       "  ['Stephens Institute Inc', '460 Townsend St', 'San Francisco', 'CA'])]"
      ]
     },
     "execution_count": 8,
     "metadata": {},
     "output_type": "execute_result"
    }
   ],
   "source": [
    "zip_biz_pair.take(5)"
   ]
  },
  {
   "cell_type": "code",
   "execution_count": 9,
   "id": "8b6d78fa",
   "metadata": {},
   "outputs": [],
   "source": [
    "sc.stop()"
   ]
  },
  {
   "cell_type": "code",
   "execution_count": null,
   "id": "797faf05",
   "metadata": {},
   "outputs": [],
   "source": []
  }
 ],
 "metadata": {
  "kernelspec": {
   "display_name": "Python 3 (ipykernel)",
   "language": "python",
   "name": "python3"
  },
  "language_info": {
   "codemirror_mode": {
    "name": "ipython",
    "version": 3
   },
   "file_extension": ".py",
   "mimetype": "text/x-python",
   "name": "python",
   "nbconvert_exporter": "python",
   "pygments_lexer": "ipython3",
   "version": "3.8.12"
  },
  "varInspector": {
   "cols": {
    "lenName": 16,
    "lenType": 16,
    "lenVar": 40
   },
   "kernels_config": {
    "python": {
     "delete_cmd_postfix": "",
     "delete_cmd_prefix": "del ",
     "library": "var_list.py",
     "varRefreshCmd": "print(var_dic_list())"
    },
    "r": {
     "delete_cmd_postfix": ") ",
     "delete_cmd_prefix": "rm(",
     "library": "var_list.r",
     "varRefreshCmd": "cat(var_dic_list()) "
    }
   },
   "types_to_exclude": [
    "module",
    "function",
    "builtin_function_or_method",
    "instance",
    "_Feature"
   ],
   "window_display": false
  }
 },
 "nbformat": 4,
 "nbformat_minor": 5
}
