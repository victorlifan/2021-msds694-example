{
 "cells": [
  {
   "cell_type": "markdown",
   "metadata": {},
   "source": [
    "You don't need to understand the syntax for now."
   ]
  },
  {
   "cell_type": "code",
   "execution_count": 1,
   "metadata": {
    "ExecuteTime": {
     "end_time": "2021-10-21T23:36:47.739781Z",
     "start_time": "2021-10-21T23:36:43.955322Z"
    }
   },
   "outputs": [
    {
     "name": "stderr",
     "output_type": "stream",
     "text": [
      "Using Spark's default log4j profile: org/apache/spark/log4j-defaults.properties\n",
      "Setting default log level to \"WARN\".\n",
      "To adjust logging level use sc.setLogLevel(newLevel). For SparkR, use setLogLevel(newLevel).\n",
      "21/10/21 16:36:46 WARN NativeCodeLoader: Unable to load native-hadoop library for your platform... using builtin-java classes where applicable\n"
     ]
    }
   ],
   "source": [
    "import pyspark\n",
    "import os\n",
    "\n",
    "sc = pyspark.SparkContext(appName='ex03').getOrCreate()"
   ]
  },
  {
   "cell_type": "code",
   "execution_count": 2,
   "metadata": {
    "ExecuteTime": {
     "end_time": "2021-10-21T23:36:48.498014Z",
     "start_time": "2021-10-21T23:36:48.485430Z"
    }
   },
   "outputs": [
    {
     "data": {
      "text/html": [
       "\n",
       "        <div>\n",
       "            <p><b>SparkContext</b></p>\n",
       "\n",
       "            <p><a href=\"http://192.168.0.126:4040\">Spark UI</a></p>\n",
       "\n",
       "            <dl>\n",
       "              <dt>Version</dt>\n",
       "                <dd><code>v3.2.0</code></dd>\n",
       "              <dt>Master</dt>\n",
       "                <dd><code>local[*]</code></dd>\n",
       "              <dt>AppName</dt>\n",
       "                <dd><code>ex03</code></dd>\n",
       "            </dl>\n",
       "        </div>\n",
       "        "
      ],
      "text/plain": [
       "<SparkContext master=local[*] appName=ex03>"
      ]
     },
     "execution_count": 2,
     "metadata": {},
     "output_type": "execute_result"
    }
   ],
   "source": [
    "sc"
   ]
  },
  {
   "cell_type": "code",
   "execution_count": 3,
   "metadata": {
    "ExecuteTime": {
     "end_time": "2021-10-21T23:36:49.103372Z",
     "start_time": "2021-10-21T23:36:49.099062Z"
    }
   },
   "outputs": [
    {
     "data": {
      "text/plain": [
       "16"
      ]
     },
     "execution_count": 3,
     "metadata": {},
     "output_type": "execute_result"
    }
   ],
   "source": [
    "sc.defaultParallelism"
   ]
  },
  {
   "cell_type": "markdown",
   "metadata": {},
   "source": [
    "Load data to 8 partitions on your local machine."
   ]
  },
  {
   "cell_type": "code",
   "execution_count": 4,
   "metadata": {
    "ExecuteTime": {
     "end_time": "2021-10-21T23:36:51.793225Z",
     "start_time": "2021-10-21T23:36:50.099193Z"
    }
   },
   "outputs": [
    {
     "name": "stderr",
     "output_type": "stream",
     "text": [
      "                                                                                \r"
     ]
    },
    {
     "data": {
      "text/plain": [
       "[['4', '0', '3', '6', '8', '7', '9', '9', '8', '5', '6', '5', '6'],\n",
       " ['3', '6', '5', '1', '8', '8', '1', '5', '4', '1', '5', '8', '2'],\n",
       " ['6', '8', '8', '3', '9', '9', '0', '7', '3', '6', '0', '6'],\n",
       " ['0', '5', '9', '0', '9', '5', '9', '2', '5', '4', '8', '6', '8'],\n",
       " ['5', '1', '4', '7', '4', '0', '1', '9', '5', '3', '1', '1'],\n",
       " ['0', '0', '9', '3', '0', '5', '4', '0', '8', '0', '1', '8', '5'],\n",
       " ['7', '2', '1', '9', '3', '4', '2', '0', '2', '8', '1', '0'],\n",
       " ['0', '8', '4', '1', '0', '0', '7', '3', '8', '3', '7', '3']]"
      ]
     },
     "execution_count": 4,
     "metadata": {},
     "output_type": "execute_result"
    }
   ],
   "source": [
    "rdd = sc.textFile(\"../Data/numbers.txt\", 8)  # Load data from the file.\n",
    "rdd.glom().collect()  # See my data on the computer."
   ]
  },
  {
   "cell_type": "markdown",
   "metadata": {},
   "source": [
    "Convert data to integer"
   ]
  },
  {
   "cell_type": "code",
   "execution_count": 5,
   "metadata": {
    "ExecuteTime": {
     "end_time": "2021-10-21T23:36:52.537009Z",
     "start_time": "2021-10-21T23:36:52.476468Z"
    }
   },
   "outputs": [
    {
     "data": {
      "text/plain": [
       "[[4, 0, 3, 6, 8, 7, 9, 9, 8, 5, 6, 5, 6],\n",
       " [3, 6, 5, 1, 8, 8, 1, 5, 4, 1, 5, 8, 2],\n",
       " [6, 8, 8, 3, 9, 9, 0, 7, 3, 6, 0, 6],\n",
       " [0, 5, 9, 0, 9, 5, 9, 2, 5, 4, 8, 6, 8],\n",
       " [5, 1, 4, 7, 4, 0, 1, 9, 5, 3, 1, 1],\n",
       " [0, 0, 9, 3, 0, 5, 4, 0, 8, 0, 1, 8, 5],\n",
       " [7, 2, 1, 9, 3, 4, 2, 0, 2, 8, 1, 0],\n",
       " [0, 8, 4, 1, 0, 0, 7, 3, 8, 3, 7, 3]]"
      ]
     },
     "execution_count": 5,
     "metadata": {},
     "output_type": "execute_result"
    }
   ],
   "source": [
    "converted_rdd = rdd.map(lambda x: int(x))\n",
    "converted_rdd.glom().collect()"
   ]
  },
  {
   "cell_type": "markdown",
   "metadata": {},
   "source": [
    " Filter data which value is greater than / equal to 8"
   ]
  },
  {
   "cell_type": "code",
   "execution_count": 6,
   "metadata": {
    "ExecuteTime": {
     "end_time": "2021-10-21T23:36:53.695941Z",
     "start_time": "2021-10-21T23:36:53.626572Z"
    }
   },
   "outputs": [
    {
     "data": {
      "text/plain": [
       "[[8, 9, 9, 8],\n",
       " [8, 8, 8],\n",
       " [8, 8, 9, 9],\n",
       " [9, 9, 9, 8, 8],\n",
       " [9],\n",
       " [9, 8, 8],\n",
       " [9, 8],\n",
       " [8, 8]]"
      ]
     },
     "execution_count": 6,
     "metadata": {},
     "output_type": "execute_result"
    }
   ],
   "source": [
    "filtered_rdd = converted_rdd.filter(lambda x: x >= 8)\n",
    "filtered_rdd.glom().collect()"
   ]
  },
  {
   "cell_type": "markdown",
   "metadata": {},
   "source": [
    "Add values using reduce()"
   ]
  },
  {
   "cell_type": "code",
   "execution_count": 7,
   "metadata": {
    "ExecuteTime": {
     "end_time": "2021-10-21T23:36:54.606868Z",
     "start_time": "2021-10-21T23:36:54.547468Z"
    }
   },
   "outputs": [
    {
     "data": {
      "text/plain": [
       "202"
      ]
     },
     "execution_count": 7,
     "metadata": {},
     "output_type": "execute_result"
    }
   ],
   "source": [
    "filtered_rdd.reduce(lambda x, y: x+y)"
   ]
  },
  {
   "cell_type": "code",
   "execution_count": 9,
   "metadata": {
    "ExecuteTime": {
     "end_time": "2021-10-21T23:36:56.219543Z",
     "start_time": "2021-10-21T23:36:55.901879Z"
    }
   },
   "outputs": [],
   "source": [
    "sc.stop()"
   ]
  },
  {
   "cell_type": "code",
   "execution_count": null,
   "metadata": {},
   "outputs": [],
   "source": []
  }
 ],
 "metadata": {
  "kernelspec": {
   "display_name": "Python 3 (ipykernel)",
   "language": "python",
   "name": "python3"
  },
  "language_info": {
   "codemirror_mode": {
    "name": "ipython",
    "version": 3
   },
   "file_extension": ".py",
   "mimetype": "text/x-python",
   "name": "python",
   "nbconvert_exporter": "python",
   "pygments_lexer": "ipython3",
   "version": "3.8.12"
  },
  "varInspector": {
   "cols": {
    "lenName": 16,
    "lenType": 16,
    "lenVar": 40
   },
   "kernels_config": {
    "python": {
     "delete_cmd_postfix": "",
     "delete_cmd_prefix": "del ",
     "library": "var_list.py",
     "varRefreshCmd": "print(var_dic_list())"
    },
    "r": {
     "delete_cmd_postfix": ") ",
     "delete_cmd_prefix": "rm(",
     "library": "var_list.r",
     "varRefreshCmd": "cat(var_dic_list()) "
    }
   },
   "types_to_exclude": [
    "module",
    "function",
    "builtin_function_or_method",
    "instance",
    "_Feature"
   ],
   "window_display": false
  }
 },
 "nbformat": 4,
 "nbformat_minor": 4
}
