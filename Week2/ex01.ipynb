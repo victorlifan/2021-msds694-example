{
 "cells": [
  {
   "cell_type": "code",
   "execution_count": 1,
   "id": "73d8a7a5",
   "metadata": {
    "ExecuteTime": {
     "end_time": "2021-10-26T22:45:33.671397Z",
     "start_time": "2021-10-26T22:45:33.595522Z"
    }
   },
   "outputs": [
    {
     "name": "stderr",
     "output_type": "stream",
     "text": [
      "21/11/05 10:33:54 WARN Utils: Your hostname, Fans-MacBook-Air.local resolves to a loopback address: 127.0.0.1; using 10.1.143.47 instead (on interface en0)\n",
      "21/11/05 10:33:54 WARN Utils: Set SPARK_LOCAL_IP if you need to bind to another address\n",
      "Using Spark's default log4j profile: org/apache/spark/log4j-defaults.properties\n",
      "Setting default log level to \"WARN\".\n",
      "To adjust logging level use sc.setLogLevel(newLevel). For SparkR, use setLogLevel(newLevel).\n",
      "21/11/05 10:33:54 WARN NativeCodeLoader: Unable to load native-hadoop library for your platform... using builtin-java classes where applicable\n"
     ]
    }
   ],
   "source": [
    "import pyspark\n",
    "import os\n",
    "\n",
    "conf = pyspark.SparkConf().set(\"spark.driver.host\", \"localhost\")\n",
    "sc = pyspark.SparkContext(appName=\"ex01\", conf=conf)\n",
    "sc.setLogLevel('OFF')"
   ]
  },
  {
   "cell_type": "markdown",
   "id": "5e1c914e",
   "metadata": {},
   "source": [
    "## 1.  Create an rdd using data from filtered_registered_business_sf.tsv\n",
    "\n",
    "* Use 8 partitions."
   ]
  },
  {
   "cell_type": "code",
   "execution_count": 2,
   "id": "4d360426",
   "metadata": {
    "ExecuteTime": {
     "end_time": "2021-10-26T23:02:41.161707Z",
     "start_time": "2021-10-26T23:02:41.138809Z"
    }
   },
   "outputs": [],
   "source": [
    "# Load data from the file.\n",
    "input_rdd = sc.textFile(\"../data/SF_business/supervisor_sf.tsv\", 8)"
   ]
  },
  {
   "cell_type": "code",
   "execution_count": 3,
   "id": "31b02da5",
   "metadata": {
    "ExecuteTime": {
     "end_time": "2021-10-26T23:11:18.119141Z",
     "start_time": "2021-10-26T23:11:18.115441Z"
    }
   },
   "outputs": [
    {
     "data": {
      "text/plain": [
       "../data/SF_business/supervisor_sf.tsv MapPartitionsRDD[1] at textFile at NativeMethodAccessorImpl.java:0"
      ]
     },
     "execution_count": 3,
     "metadata": {},
     "output_type": "execute_result"
    }
   ],
   "source": [
    "input_rdd"
   ]
  },
  {
   "cell_type": "markdown",
   "id": "89e45aea",
   "metadata": {},
   "source": [
    "* rdd is data which is distributed."
   ]
  },
  {
   "cell_type": "markdown",
   "id": "7dff7e60",
   "metadata": {},
   "source": [
    "## 2.  See the data in RDD"
   ]
  },
  {
   "cell_type": "code",
   "execution_count": 4,
   "id": "a23f2416",
   "metadata": {
    "ExecuteTime": {
     "end_time": "2021-10-26T23:02:42.203918Z",
     "start_time": "2021-10-26T23:02:42.179628Z"
    },
    "collapsed": true,
    "jupyter": {
     "outputs_hidden": true
    },
    "tags": []
   },
   "outputs": [
    {
     "name": "stderr",
     "output_type": "stream",
     "text": [
      "                                                                                \r"
     ]
    },
    {
     "data": {
      "text/plain": [
       "['94102\\t8',\n",
       " '94102\\t6',\n",
       " '94102\\t3',\n",
       " '94102\\t5',\n",
       " '94103\\t8',\n",
       " '94103\\t9',\n",
       " '94103\\t10',\n",
       " '94103\\t6',\n",
       " '94103\\t3',\n",
       " '94103\\t5',\n",
       " '94104\\t6',\n",
       " '94104\\t3',\n",
       " '94105\\t6',\n",
       " '94105\\t3',\n",
       " '94107\\t10',\n",
       " '94107\\t6',\n",
       " '94108\\t6',\n",
       " '94108\\t3',\n",
       " '94109\\t2',\n",
       " '94109\\t6',\n",
       " '94109\\t3',\n",
       " '94109\\t5',\n",
       " '94110\\t8',\n",
       " '94110\\t11',\n",
       " '94110\\t9',\n",
       " '94110\\t10',\n",
       " '94111\\t6',\n",
       " '94111\\t3',\n",
       " '94112\\t7',\n",
       " '94112\\t8',\n",
       " '94112\\t11',\n",
       " '94112\\t9',\n",
       " '94112\\t10',\n",
       " '94114\\t7',\n",
       " '94114\\t8',\n",
       " '94114\\t5',\n",
       " '94115\\t2',\n",
       " '94115\\t1',\n",
       " '94115\\t5',\n",
       " '94116\\t7',\n",
       " '94116\\t4',\n",
       " '94117\\t1',\n",
       " '94117\\t7',\n",
       " '94117\\t8',\n",
       " '94117\\t5',\n",
       " '94118\\t2',\n",
       " '94118\\t1',\n",
       " '94118\\t5',\n",
       " '94121\\t2',\n",
       " '94121\\t1',\n",
       " '94122\\t1',\n",
       " '94122\\t7',\n",
       " '94122\\t5',\n",
       " '94122\\t4',\n",
       " '94123\\t2',\n",
       " '94124\\t9',\n",
       " '94124\\t10',\n",
       " '94127\\t7',\n",
       " '94127\\t8',\n",
       " '94127\\t11',\n",
       " '94129\\t2',\n",
       " '94130\\t6',\n",
       " '94131\\t7',\n",
       " '94131\\t8',\n",
       " '94131\\t5',\n",
       " '94132\\t7',\n",
       " '94132\\t11',\n",
       " '94132\\t4',\n",
       " '94133\\t2',\n",
       " '94133\\t3',\n",
       " '94134\\t11',\n",
       " '94134\\t9',\n",
       " '94134\\t10',\n",
       " '94158\\t10',\n",
       " '94158\\t6']"
      ]
     },
     "execution_count": 4,
     "metadata": {},
     "output_type": "execute_result"
    }
   ],
   "source": [
    "input_rdd.collect()"
   ]
  },
  {
   "cell_type": "code",
   "execution_count": 5,
   "id": "0ee8276f",
   "metadata": {
    "ExecuteTime": {
     "end_time": "2021-10-26T23:02:42.587600Z",
     "start_time": "2021-10-26T23:02:42.561653Z"
    }
   },
   "outputs": [
    {
     "data": {
      "text/plain": [
       "list"
      ]
     },
     "execution_count": 5,
     "metadata": {},
     "output_type": "execute_result"
    }
   ],
   "source": [
    "# It is no longer distributed! So do not use other than on the final step or for debugging.\n",
    "type(input_rdd.collect())"
   ]
  },
  {
   "cell_type": "markdown",
   "id": "113d48b8",
   "metadata": {},
   "source": [
    "## 3.  How many data are in RDD?"
   ]
  },
  {
   "cell_type": "code",
   "execution_count": 6,
   "id": "95d2c67f",
   "metadata": {
    "ExecuteTime": {
     "end_time": "2021-10-26T23:02:43.705973Z",
     "start_time": "2021-10-26T23:02:43.665615Z"
    }
   },
   "outputs": [
    {
     "name": "stderr",
     "output_type": "stream",
     "text": [
      "                                                                                \r"
     ]
    },
    {
     "data": {
      "text/plain": [
       "75"
      ]
     },
     "execution_count": 6,
     "metadata": {},
     "output_type": "execute_result"
    }
   ],
   "source": [
    "input_rdd.count()"
   ]
  },
  {
   "cell_type": "code",
   "execution_count": 7,
   "id": "32a1caa9",
   "metadata": {},
   "outputs": [
    {
     "data": {
      "text/plain": [
       "int"
      ]
     },
     "execution_count": 7,
     "metadata": {},
     "output_type": "execute_result"
    }
   ],
   "source": [
    "# Also count() is an action like collect()\n",
    "type(input_rdd.count())"
   ]
  },
  {
   "cell_type": "markdown",
   "id": "599aefcc",
   "metadata": {},
   "source": [
    "## 4. See how data is distributed on 8 partitions"
   ]
  },
  {
   "cell_type": "code",
   "execution_count": 8,
   "id": "edcf1be2",
   "metadata": {
    "ExecuteTime": {
     "end_time": "2021-10-26T23:02:44.482973Z",
     "start_time": "2021-10-26T23:02:44.446507Z"
    },
    "collapsed": true,
    "jupyter": {
     "outputs_hidden": true
    },
    "tags": []
   },
   "outputs": [
    {
     "data": {
      "text/plain": [
       "[['94102\\t8',\n",
       "  '94102\\t6',\n",
       "  '94102\\t3',\n",
       "  '94102\\t5',\n",
       "  '94103\\t8',\n",
       "  '94103\\t9',\n",
       "  '94103\\t10',\n",
       "  '94103\\t6',\n",
       "  '94103\\t3',\n",
       "  '94103\\t5'],\n",
       " ['94104\\t6',\n",
       "  '94104\\t3',\n",
       "  '94105\\t6',\n",
       "  '94105\\t3',\n",
       "  '94107\\t10',\n",
       "  '94107\\t6',\n",
       "  '94108\\t6',\n",
       "  '94108\\t3',\n",
       "  '94109\\t2'],\n",
       " ['94109\\t6',\n",
       "  '94109\\t3',\n",
       "  '94109\\t5',\n",
       "  '94110\\t8',\n",
       "  '94110\\t11',\n",
       "  '94110\\t9',\n",
       "  '94110\\t10',\n",
       "  '94111\\t6',\n",
       "  '94111\\t3'],\n",
       " ['94112\\t7',\n",
       "  '94112\\t8',\n",
       "  '94112\\t11',\n",
       "  '94112\\t9',\n",
       "  '94112\\t10',\n",
       "  '94114\\t7',\n",
       "  '94114\\t8',\n",
       "  '94114\\t5',\n",
       "  '94115\\t2',\n",
       "  '94115\\t1'],\n",
       " ['94115\\t5',\n",
       "  '94116\\t7',\n",
       "  '94116\\t4',\n",
       "  '94117\\t1',\n",
       "  '94117\\t7',\n",
       "  '94117\\t8',\n",
       "  '94117\\t5',\n",
       "  '94118\\t2',\n",
       "  '94118\\t1'],\n",
       " ['94118\\t5',\n",
       "  '94121\\t2',\n",
       "  '94121\\t1',\n",
       "  '94122\\t1',\n",
       "  '94122\\t7',\n",
       "  '94122\\t5',\n",
       "  '94122\\t4',\n",
       "  '94123\\t2',\n",
       "  '94124\\t9',\n",
       "  '94124\\t10'],\n",
       " ['94127\\t7',\n",
       "  '94127\\t8',\n",
       "  '94127\\t11',\n",
       "  '94129\\t2',\n",
       "  '94130\\t6',\n",
       "  '94131\\t7',\n",
       "  '94131\\t8',\n",
       "  '94131\\t5',\n",
       "  '94132\\t7'],\n",
       " ['94132\\t11',\n",
       "  '94132\\t4',\n",
       "  '94133\\t2',\n",
       "  '94133\\t3',\n",
       "  '94134\\t11',\n",
       "  '94134\\t9',\n",
       "  '94134\\t10',\n",
       "  '94158\\t10',\n",
       "  '94158\\t6']]"
      ]
     },
     "execution_count": 8,
     "metadata": {},
     "output_type": "execute_result"
    }
   ],
   "source": [
    "input_rdd.glom().collect()"
   ]
  },
  {
   "cell_type": "markdown",
   "id": "1b8c6420",
   "metadata": {},
   "source": [
    "## 5. Convert data in rdd to a tuple of integers"
   ]
  },
  {
   "cell_type": "code",
   "execution_count": 9,
   "id": "96056f0c",
   "metadata": {
    "ExecuteTime": {
     "end_time": "2021-10-26T23:03:38.297499Z",
     "start_time": "2021-10-26T23:03:38.293922Z"
    }
   },
   "outputs": [],
   "source": [
    "splitted_rdd = input_rdd.map(lambda x: x.split('\\t'))"
   ]
  },
  {
   "cell_type": "code",
   "execution_count": 10,
   "id": "3c127034-815a-4366-ab30-20bfab57444b",
   "metadata": {
    "collapsed": true,
    "jupyter": {
     "outputs_hidden": true
    },
    "tags": []
   },
   "outputs": [
    {
     "data": {
      "text/plain": [
       "[['94102', '8'],\n",
       " ['94102', '6'],\n",
       " ['94102', '3'],\n",
       " ['94102', '5'],\n",
       " ['94103', '8'],\n",
       " ['94103', '9'],\n",
       " ['94103', '10'],\n",
       " ['94103', '6'],\n",
       " ['94103', '3'],\n",
       " ['94103', '5'],\n",
       " ['94104', '6'],\n",
       " ['94104', '3'],\n",
       " ['94105', '6'],\n",
       " ['94105', '3'],\n",
       " ['94107', '10'],\n",
       " ['94107', '6'],\n",
       " ['94108', '6'],\n",
       " ['94108', '3'],\n",
       " ['94109', '2'],\n",
       " ['94109', '6'],\n",
       " ['94109', '3'],\n",
       " ['94109', '5'],\n",
       " ['94110', '8'],\n",
       " ['94110', '11'],\n",
       " ['94110', '9'],\n",
       " ['94110', '10'],\n",
       " ['94111', '6'],\n",
       " ['94111', '3'],\n",
       " ['94112', '7'],\n",
       " ['94112', '8'],\n",
       " ['94112', '11'],\n",
       " ['94112', '9'],\n",
       " ['94112', '10'],\n",
       " ['94114', '7'],\n",
       " ['94114', '8'],\n",
       " ['94114', '5'],\n",
       " ['94115', '2'],\n",
       " ['94115', '1'],\n",
       " ['94115', '5'],\n",
       " ['94116', '7'],\n",
       " ['94116', '4'],\n",
       " ['94117', '1'],\n",
       " ['94117', '7'],\n",
       " ['94117', '8'],\n",
       " ['94117', '5'],\n",
       " ['94118', '2'],\n",
       " ['94118', '1'],\n",
       " ['94118', '5'],\n",
       " ['94121', '2'],\n",
       " ['94121', '1'],\n",
       " ['94122', '1'],\n",
       " ['94122', '7'],\n",
       " ['94122', '5'],\n",
       " ['94122', '4'],\n",
       " ['94123', '2'],\n",
       " ['94124', '9'],\n",
       " ['94124', '10'],\n",
       " ['94127', '7'],\n",
       " ['94127', '8'],\n",
       " ['94127', '11'],\n",
       " ['94129', '2'],\n",
       " ['94130', '6'],\n",
       " ['94131', '7'],\n",
       " ['94131', '8'],\n",
       " ['94131', '5'],\n",
       " ['94132', '7'],\n",
       " ['94132', '11'],\n",
       " ['94132', '4'],\n",
       " ['94133', '2'],\n",
       " ['94133', '3'],\n",
       " ['94134', '11'],\n",
       " ['94134', '9'],\n",
       " ['94134', '10'],\n",
       " ['94158', '10'],\n",
       " ['94158', '6']]"
      ]
     },
     "execution_count": 10,
     "metadata": {},
     "output_type": "execute_result"
    }
   ],
   "source": [
    "splitted_rdd.collect()"
   ]
  },
  {
   "cell_type": "code",
   "execution_count": 11,
   "id": "e4b8e7c9",
   "metadata": {},
   "outputs": [],
   "source": [
    "zip_id = splitted_rdd.map(lambda x: [int(x[0]), int(x[1])])"
   ]
  },
  {
   "cell_type": "code",
   "execution_count": 12,
   "id": "9f96c4b6",
   "metadata": {
    "ExecuteTime": {
     "end_time": "2021-10-26T23:03:38.801390Z",
     "start_time": "2021-10-26T23:03:38.762010Z"
    },
    "collapsed": true,
    "jupyter": {
     "outputs_hidden": true
    },
    "tags": []
   },
   "outputs": [
    {
     "data": {
      "text/plain": [
       "[[94102, 8],\n",
       " [94102, 6],\n",
       " [94102, 3],\n",
       " [94102, 5],\n",
       " [94103, 8],\n",
       " [94103, 9],\n",
       " [94103, 10],\n",
       " [94103, 6],\n",
       " [94103, 3],\n",
       " [94103, 5],\n",
       " [94104, 6],\n",
       " [94104, 3],\n",
       " [94105, 6],\n",
       " [94105, 3],\n",
       " [94107, 10],\n",
       " [94107, 6],\n",
       " [94108, 6],\n",
       " [94108, 3],\n",
       " [94109, 2],\n",
       " [94109, 6],\n",
       " [94109, 3],\n",
       " [94109, 5],\n",
       " [94110, 8],\n",
       " [94110, 11],\n",
       " [94110, 9],\n",
       " [94110, 10],\n",
       " [94111, 6],\n",
       " [94111, 3],\n",
       " [94112, 7],\n",
       " [94112, 8],\n",
       " [94112, 11],\n",
       " [94112, 9],\n",
       " [94112, 10],\n",
       " [94114, 7],\n",
       " [94114, 8],\n",
       " [94114, 5],\n",
       " [94115, 2],\n",
       " [94115, 1],\n",
       " [94115, 5],\n",
       " [94116, 7],\n",
       " [94116, 4],\n",
       " [94117, 1],\n",
       " [94117, 7],\n",
       " [94117, 8],\n",
       " [94117, 5],\n",
       " [94118, 2],\n",
       " [94118, 1],\n",
       " [94118, 5],\n",
       " [94121, 2],\n",
       " [94121, 1],\n",
       " [94122, 1],\n",
       " [94122, 7],\n",
       " [94122, 5],\n",
       " [94122, 4],\n",
       " [94123, 2],\n",
       " [94124, 9],\n",
       " [94124, 10],\n",
       " [94127, 7],\n",
       " [94127, 8],\n",
       " [94127, 11],\n",
       " [94129, 2],\n",
       " [94130, 6],\n",
       " [94131, 7],\n",
       " [94131, 8],\n",
       " [94131, 5],\n",
       " [94132, 7],\n",
       " [94132, 11],\n",
       " [94132, 4],\n",
       " [94133, 2],\n",
       " [94133, 3],\n",
       " [94134, 11],\n",
       " [94134, 9],\n",
       " [94134, 10],\n",
       " [94158, 10],\n",
       " [94158, 6]]"
      ]
     },
     "execution_count": 12,
     "metadata": {},
     "output_type": "execute_result"
    }
   ],
   "source": [
    "zip_id.collect()"
   ]
  },
  {
   "cell_type": "markdown",
   "id": "eee62d11-8c1b-4185-b387-f6be5f5ac28e",
   "metadata": {},
   "source": [
    "* compare with flatmap() "
   ]
  },
  {
   "cell_type": "code",
   "execution_count": 25,
   "id": "db86acad-a5e8-41e5-bdc2-b63733568ba3",
   "metadata": {},
   "outputs": [],
   "source": [
    "zip_id = splitted_rdd.map(lambda x : [int(x[0]), int(x[1])])"
   ]
  },
  {
   "cell_type": "code",
   "execution_count": 26,
   "id": "42c17d93-418f-41a9-8a7c-72055fa82ed2",
   "metadata": {
    "collapsed": true,
    "jupyter": {
     "outputs_hidden": true
    },
    "tags": []
   },
   "outputs": [
    {
     "data": {
      "text/plain": [
       "[[94102, 8],\n",
       " [94102, 6],\n",
       " [94102, 3],\n",
       " [94102, 5],\n",
       " [94103, 8],\n",
       " [94103, 9],\n",
       " [94103, 10],\n",
       " [94103, 6],\n",
       " [94103, 3],\n",
       " [94103, 5],\n",
       " [94104, 6],\n",
       " [94104, 3],\n",
       " [94105, 6],\n",
       " [94105, 3],\n",
       " [94107, 10],\n",
       " [94107, 6],\n",
       " [94108, 6],\n",
       " [94108, 3],\n",
       " [94109, 2],\n",
       " [94109, 6],\n",
       " [94109, 3],\n",
       " [94109, 5],\n",
       " [94110, 8],\n",
       " [94110, 11],\n",
       " [94110, 9],\n",
       " [94110, 10],\n",
       " [94111, 6],\n",
       " [94111, 3],\n",
       " [94112, 7],\n",
       " [94112, 8],\n",
       " [94112, 11],\n",
       " [94112, 9],\n",
       " [94112, 10],\n",
       " [94114, 7],\n",
       " [94114, 8],\n",
       " [94114, 5],\n",
       " [94115, 2],\n",
       " [94115, 1],\n",
       " [94115, 5],\n",
       " [94116, 7],\n",
       " [94116, 4],\n",
       " [94117, 1],\n",
       " [94117, 7],\n",
       " [94117, 8],\n",
       " [94117, 5],\n",
       " [94118, 2],\n",
       " [94118, 1],\n",
       " [94118, 5],\n",
       " [94121, 2],\n",
       " [94121, 1],\n",
       " [94122, 1],\n",
       " [94122, 7],\n",
       " [94122, 5],\n",
       " [94122, 4],\n",
       " [94123, 2],\n",
       " [94124, 9],\n",
       " [94124, 10],\n",
       " [94127, 7],\n",
       " [94127, 8],\n",
       " [94127, 11],\n",
       " [94129, 2],\n",
       " [94130, 6],\n",
       " [94131, 7],\n",
       " [94131, 8],\n",
       " [94131, 5],\n",
       " [94132, 7],\n",
       " [94132, 11],\n",
       " [94132, 4],\n",
       " [94133, 2],\n",
       " [94133, 3],\n",
       " [94134, 11],\n",
       " [94134, 9],\n",
       " [94134, 10],\n",
       " [94158, 10],\n",
       " [94158, 6]]"
      ]
     },
     "execution_count": 26,
     "metadata": {},
     "output_type": "execute_result"
    }
   ],
   "source": [
    "zip_id.collect()"
   ]
  },
  {
   "cell_type": "markdown",
   "id": "2a3cbf45",
   "metadata": {},
   "source": [
    "## 6. Return unique zip code associated with id, 9 or 10"
   ]
  },
  {
   "cell_type": "code",
   "execution_count": 27,
   "id": "75d78336",
   "metadata": {
    "ExecuteTime": {
     "end_time": "2021-10-26T23:05:17.212633Z",
     "start_time": "2021-10-26T23:05:17.195751Z"
    }
   },
   "outputs": [],
   "source": [
    "zip = zip_id.filter(lambda x: x[1] == 9 or x[1] == 10)\\\n",
    "            .map(lambda x: x[0])"
   ]
  },
  {
   "cell_type": "code",
   "execution_count": 29,
   "id": "48b233f1",
   "metadata": {},
   "outputs": [],
   "source": [
    "distinct_zip = zip.distinct()"
   ]
  },
  {
   "cell_type": "code",
   "execution_count": 30,
   "id": "c494a555-47eb-46b7-a34a-33c685d6db1e",
   "metadata": {
    "tags": []
   },
   "outputs": [
    {
     "name": "stderr",
     "output_type": "stream",
     "text": [
      "                                                                                \r"
     ]
    },
    {
     "data": {
      "text/plain": [
       "[94112, 94107, 94124, 94110, 94134, 94158, 94103]"
      ]
     },
     "execution_count": 30,
     "metadata": {},
     "output_type": "execute_result"
    }
   ],
   "source": [
    "distinct_zip.collect()"
   ]
  },
  {
   "cell_type": "markdown",
   "id": "c9038a1d",
   "metadata": {},
   "source": [
    "## 7. Order zip in ascending order"
   ]
  },
  {
   "cell_type": "code",
   "execution_count": 31,
   "id": "2bf602b1",
   "metadata": {
    "ExecuteTime": {
     "end_time": "2021-10-26T23:06:11.523226Z",
     "start_time": "2021-10-26T23:06:11.424674Z"
    },
    "tags": []
   },
   "outputs": [],
   "source": [
    "ordered_distinct_zip = distinct_zip.sortBy(lambda x: x, ascending=False)"
   ]
  },
  {
   "cell_type": "code",
   "execution_count": 32,
   "id": "73657c62",
   "metadata": {
    "ExecuteTime": {
     "end_time": "2021-10-26T23:06:17.872730Z",
     "start_time": "2021-10-26T23:06:17.797886Z"
    }
   },
   "outputs": [
    {
     "data": {
      "text/plain": [
       "[94158, 94134, 94124, 94112, 94110, 94107, 94103]"
      ]
     },
     "execution_count": 32,
     "metadata": {},
     "output_type": "execute_result"
    }
   ],
   "source": [
    "ordered_distinct_zip.collect()"
   ]
  },
  {
   "cell_type": "code",
   "execution_count": null,
   "id": "ec8583b5",
   "metadata": {
    "ExecuteTime": {
     "end_time": "2021-10-26T23:06:34.916231Z",
     "start_time": "2021-10-26T23:06:34.291318Z"
    }
   },
   "outputs": [],
   "source": [
    "#sc.stop()"
   ]
  },
  {
   "cell_type": "code",
   "execution_count": 40,
   "id": "1a840aff",
   "metadata": {},
   "outputs": [
    {
     "data": {
      "text/plain": [
       "[[94103, 8], [94103, 9], [94103, 10], [94103, 6], [94103, 3], [94103, 5]]"
      ]
     },
     "execution_count": 40,
     "metadata": {},
     "output_type": "execute_result"
    }
   ],
   "source": [
    "zip_id.filter(lambda x: x[0] == 94103).collect() # 94103, 94105 and 94107"
   ]
  },
  {
   "cell_type": "code",
   "execution_count": null,
   "id": "40e03a4f-d320-4872-a6f6-82a2c49a5803",
   "metadata": {},
   "outputs": [],
   "source": []
  },
  {
   "cell_type": "code",
   "execution_count": null,
   "id": "bf3d4a4b-a949-4cee-a91f-bc5af4d0437d",
   "metadata": {},
   "outputs": [],
   "source": []
  },
  {
   "cell_type": "code",
   "execution_count": 51,
   "id": "b9a9aa22-df96-4516-9715-ccfc056964a1",
   "metadata": {},
   "outputs": [
    {
     "name": "stdout",
     "output_type": "stream",
     "text": [
      "49\n"
     ]
    }
   ],
   "source": [
    "input_rdd_number = sc.textFile(\"../data/numbers.txt\", 8)\n",
    "num = input_rdd_number.map(lambda x: int(x))\n",
    "odd_num = num.filter(lambda x: x%2!=0)\n",
    "print(odd_num.count())\n",
    "print(odd_num.)"
   ]
  },
  {
   "cell_type": "code",
   "execution_count": 53,
   "id": "d318bf10-470a-479e-a96b-5c81bf55c919",
   "metadata": {
    "tags": []
   },
   "outputs": [
    {
     "data": {
      "text/plain": [
       "[3,\n",
       " 7,\n",
       " 9,\n",
       " 9,\n",
       " 5,\n",
       " 5,\n",
       " 3,\n",
       " 5,\n",
       " 1,\n",
       " 1,\n",
       " 5,\n",
       " 1,\n",
       " 5,\n",
       " 3,\n",
       " 9,\n",
       " 9,\n",
       " 7,\n",
       " 3,\n",
       " 5,\n",
       " 9,\n",
       " 9,\n",
       " 5,\n",
       " 9,\n",
       " 5,\n",
       " 5,\n",
       " 1,\n",
       " 7,\n",
       " 1,\n",
       " 9,\n",
       " 5,\n",
       " 3,\n",
       " 1,\n",
       " 1,\n",
       " 9,\n",
       " 3,\n",
       " 5,\n",
       " 1,\n",
       " 5,\n",
       " 7,\n",
       " 1,\n",
       " 9,\n",
       " 3,\n",
       " 1,\n",
       " 1,\n",
       " 7,\n",
       " 3,\n",
       " 3,\n",
       " 7,\n",
       " 3]"
      ]
     },
     "execution_count": 53,
     "metadata": {},
     "output_type": "execute_result"
    }
   ],
   "source": [
    "#What are the odd numbers in the file?\n",
    "odd_num.collect()"
   ]
  },
  {
   "cell_type": "code",
   "execution_count": 62,
   "id": "48e0daa7-874b-4802-9846-79ea15ff9b95",
   "metadata": {},
   "outputs": [
    {
     "name": "stdout",
     "output_type": "stream",
     "text": [
      "3\n",
      "[3, 7, 9, 9, 5]\n",
      "[9, 9, 9, 9, 9]\n",
      "defaultdict(<class 'int'>, {3: 10, 7: 6, 9: 10, 5: 12, 1: 11})\n"
     ]
    }
   ],
   "source": [
    "# What is the first odd number?\n",
    "print(odd_num.first())\n",
    "# What are the 5 odd numbers?\n",
    "print(odd_num.take(5))\n",
    "# What are the top 5 odd numbers in descending order?\n",
    "print(odd_num.top(5))\n",
    "# What are the occurrences of each odd number?\n",
    "print(odd_num.countByValue())"
   ]
  },
  {
   "cell_type": "code",
   "execution_count": 63,
   "id": "47ce5d31-d37b-4b17-81e1-018b561c2f65",
   "metadata": {},
   "outputs": [
    {
     "data": {
      "text/plain": [
       "233"
      ]
     },
     "execution_count": 63,
     "metadata": {},
     "output_type": "execute_result"
    }
   ],
   "source": [
    "#For Data/numbers.txt, calculate the sum of the odd numbers with different zero values using fold().\n",
    "odd_num.fold(0,lambda x,y: x+y)"
   ]
  },
  {
   "cell_type": "code",
   "execution_count": 64,
   "id": "a119529c-d964-4162-bc70-ab8e2ac6666a",
   "metadata": {},
   "outputs": [],
   "source": [
    "sc.stop()"
   ]
  },
  {
   "cell_type": "code",
   "execution_count": null,
   "id": "7cf8f028-fa9b-4d84-9630-84223d84321e",
   "metadata": {},
   "outputs": [],
   "source": []
  }
 ],
 "metadata": {
  "kernelspec": {
   "display_name": "Python 3 (ipykernel)",
   "language": "python",
   "name": "python3"
  },
  "language_info": {
   "codemirror_mode": {
    "name": "ipython",
    "version": 3
   },
   "file_extension": ".py",
   "mimetype": "text/x-python",
   "name": "python",
   "nbconvert_exporter": "python",
   "pygments_lexer": "ipython3",
   "version": "3.10.0"
  },
  "varInspector": {
   "cols": {
    "lenName": 16,
    "lenType": 16,
    "lenVar": 40
   },
   "kernels_config": {
    "python": {
     "delete_cmd_postfix": "",
     "delete_cmd_prefix": "del ",
     "library": "var_list.py",
     "varRefreshCmd": "print(var_dic_list())"
    },
    "r": {
     "delete_cmd_postfix": ") ",
     "delete_cmd_prefix": "rm(",
     "library": "var_list.r",
     "varRefreshCmd": "cat(var_dic_list()) "
    }
   },
   "types_to_exclude": [
    "module",
    "function",
    "builtin_function_or_method",
    "instance",
    "_Feature"
   ],
   "window_display": false
  }
 },
 "nbformat": 4,
 "nbformat_minor": 5
}
