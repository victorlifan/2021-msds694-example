{
 "cells": [
  {
   "cell_type": "code",
   "execution_count": null,
   "id": "d2fa482f",
   "metadata": {},
   "outputs": [],
   "source": [
    "from pyspark import SparkContext\n",
    "import pyspark\n",
    "\n",
    "conf = pyspark.SparkConf().set(\"spark.driver.host\", \"localhost\")\n",
    "sc = SparkContext.getOrCreate()\n",
    "sc.setLogLevel('OFF')"
   ]
  },
  {
   "cell_type": "code",
   "execution_count": null,
   "id": "cec2c0a9",
   "metadata": {},
   "outputs": [],
   "source": [
    "numbers = sc.textFile(\"../Data/numbers.txt\", 8)\n",
    "odd_numbers = numbers.map(lambda x: int(x))\\\n",
    "                     .filter(lambda x: x % 2 == 1).sortBy(lambda x: x)"
   ]
  },
  {
   "cell_type": "markdown",
   "id": "bee68b61",
   "metadata": {},
   "source": [
    "## Store odd_numbers, the RDD in the “ex06_output” directory.\n"
   ]
  },
  {
   "cell_type": "code",
   "execution_count": null,
   "id": "0608d85b",
   "metadata": {},
   "outputs": [],
   "source": []
  },
  {
   "cell_type": "markdown",
   "id": "78b1cb4f",
   "metadata": {},
   "source": [
    "## Read data from the “ex06_output” directory. "
   ]
  },
  {
   "cell_type": "code",
   "execution_count": null,
   "id": "8dd58088",
   "metadata": {},
   "outputs": [],
   "source": []
  },
  {
   "cell_type": "code",
   "execution_count": null,
   "id": "fea6a88a",
   "metadata": {},
   "outputs": [],
   "source": [
    "sc.stop()"
   ]
  },
  {
   "cell_type": "code",
   "execution_count": null,
   "id": "c98f2fd9",
   "metadata": {},
   "outputs": [],
   "source": []
  }
 ],
 "metadata": {
  "kernelspec": {
   "display_name": "Python 3 (ipykernel)",
   "language": "python",
   "name": "python3"
  },
  "language_info": {
   "codemirror_mode": {
    "name": "ipython",
    "version": 3
   },
   "file_extension": ".py",
   "mimetype": "text/x-python",
   "name": "python",
   "nbconvert_exporter": "python",
   "pygments_lexer": "ipython3",
   "version": "3.7.11"
  },
  "varInspector": {
   "cols": {
    "lenName": 16,
    "lenType": 16,
    "lenVar": 40
   },
   "kernels_config": {
    "python": {
     "delete_cmd_postfix": "",
     "delete_cmd_prefix": "del ",
     "library": "var_list.py",
     "varRefreshCmd": "print(var_dic_list())"
    },
    "r": {
     "delete_cmd_postfix": ") ",
     "delete_cmd_prefix": "rm(",
     "library": "var_list.r",
     "varRefreshCmd": "cat(var_dic_list()) "
    }
   },
   "types_to_exclude": [
    "module",
    "function",
    "builtin_function_or_method",
    "instance",
    "_Feature"
   ],
   "window_display": false
  }
 },
 "nbformat": 4,
 "nbformat_minor": 5
}
