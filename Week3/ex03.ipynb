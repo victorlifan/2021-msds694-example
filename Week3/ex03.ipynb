{
 "cells": [
  {
   "cell_type": "code",
   "execution_count": 1,
   "metadata": {
    "ExecuteTime": {
     "end_time": "2021-01-06T21:24:29.071855Z",
     "start_time": "2021-01-06T21:24:26.215308Z"
    }
   },
   "outputs": [],
   "source": [
    "from pyspark import SparkContext\n",
    "import pyspark\n",
    "\n",
    "conf = pyspark.SparkConf().set(\"spark.driver.host\", \"localhost\")\n",
    "sc = SparkContext.getOrCreate()\n",
    "sc.setLogLevel('OFF')"
   ]
  },
  {
   "cell_type": "markdown",
   "metadata": {},
   "source": [
    "## create an RDD of odd numbers from \"../Data/numbers.txt\""
   ]
  },
  {
   "cell_type": "code",
   "execution_count": 2,
   "metadata": {
    "ExecuteTime": {
     "end_time": "2021-01-06T21:24:29.693591Z",
     "start_time": "2021-01-06T21:24:29.073720Z"
    }
   },
   "outputs": [],
   "source": [
    "numbers = sc.textFile(\"../Data/numbers.txt\")"
   ]
  },
  {
   "cell_type": "code",
   "execution_count": 3,
   "metadata": {
    "ExecuteTime": {
     "end_time": "2021-01-06T21:24:29.713220Z",
     "start_time": "2021-01-06T21:24:29.695613Z"
    }
   },
   "outputs": [],
   "source": [
    "odd_numbers = numbers.map(lambda x : int(x))\\\n",
    "                     .filter(lambda x : x % 2 == 1)"
   ]
  },
  {
   "cell_type": "code",
   "execution_count": 4,
   "metadata": {
    "ExecuteTime": {
     "end_time": "2021-01-06T21:24:30.770065Z",
     "start_time": "2021-01-06T21:24:29.715146Z"
    }
   },
   "outputs": [
    {
     "data": {
      "text/plain": [
       "[3,\n",
       " 7,\n",
       " 9,\n",
       " 9,\n",
       " 5,\n",
       " 5,\n",
       " 3,\n",
       " 5,\n",
       " 1,\n",
       " 1,\n",
       " 5,\n",
       " 1,\n",
       " 5,\n",
       " 3,\n",
       " 9,\n",
       " 9,\n",
       " 7,\n",
       " 3,\n",
       " 5,\n",
       " 9,\n",
       " 9,\n",
       " 5,\n",
       " 9,\n",
       " 5,\n",
       " 5,\n",
       " 1,\n",
       " 7,\n",
       " 1,\n",
       " 9,\n",
       " 5,\n",
       " 3,\n",
       " 1,\n",
       " 1,\n",
       " 9,\n",
       " 3,\n",
       " 5,\n",
       " 1,\n",
       " 5,\n",
       " 7,\n",
       " 1,\n",
       " 9,\n",
       " 3,\n",
       " 1,\n",
       " 1,\n",
       " 7,\n",
       " 3,\n",
       " 3,\n",
       " 7,\n",
       " 3]"
      ]
     },
     "execution_count": 4,
     "metadata": {},
     "output_type": "execute_result"
    }
   ],
   "source": [
    "odd_numbers.collect()"
   ]
  },
  {
   "cell_type": "markdown",
   "metadata": {},
   "source": [
    "## Calculate the sum of odd_numbers"
   ]
  },
  {
   "cell_type": "code",
   "execution_count": 5,
   "metadata": {
    "ExecuteTime": {
     "end_time": "2021-01-06T21:24:30.817283Z",
     "start_time": "2021-01-06T21:24:30.771668Z"
    }
   },
   "outputs": [
    {
     "data": {
      "text/plain": [
       "233"
      ]
     },
     "execution_count": 5,
     "metadata": {},
     "output_type": "execute_result"
    }
   ],
   "source": [
    "odd_numbers.reduce(lambda x,y : x + y)"
   ]
  },
  {
   "cell_type": "code",
   "execution_count": 6,
   "metadata": {
    "ExecuteTime": {
     "end_time": "2021-01-06T21:24:31.816126Z",
     "start_time": "2021-01-06T21:24:30.818741Z"
    }
   },
   "outputs": [],
   "source": [
    "sc.stop()"
   ]
  },
  {
   "cell_type": "code",
   "execution_count": null,
   "metadata": {},
   "outputs": [],
   "source": []
  }
 ],
 "metadata": {
  "kernelspec": {
   "display_name": "Python 3 (ipykernel)",
   "language": "python",
   "name": "python3"
  },
  "language_info": {
   "codemirror_mode": {
    "name": "ipython",
    "version": 3
   },
   "file_extension": ".py",
   "mimetype": "text/x-python",
   "name": "python",
   "nbconvert_exporter": "python",
   "pygments_lexer": "ipython3",
   "version": "3.7.11"
  },
  "varInspector": {
   "cols": {
    "lenName": 16,
    "lenType": 16,
    "lenVar": 40
   },
   "kernels_config": {
    "python": {
     "delete_cmd_postfix": "",
     "delete_cmd_prefix": "del ",
     "library": "var_list.py",
     "varRefreshCmd": "print(var_dic_list())"
    },
    "r": {
     "delete_cmd_postfix": ") ",
     "delete_cmd_prefix": "rm(",
     "library": "var_list.r",
     "varRefreshCmd": "cat(var_dic_list()) "
    }
   },
   "types_to_exclude": [
    "module",
    "function",
    "builtin_function_or_method",
    "instance",
    "_Feature"
   ],
   "window_display": false
  }
 },
 "nbformat": 4,
 "nbformat_minor": 2
}
