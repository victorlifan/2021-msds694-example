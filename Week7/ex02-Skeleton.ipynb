{
 "cells": [
  {
   "cell_type": "code",
   "execution_count": null,
   "id": "5b30d74a",
   "metadata": {},
   "outputs": [],
   "source": [
    "from pyspark import SparkContext\n",
    "import pyspark\n",
    "import time\n",
    "\n",
    "conf = pyspark.SparkConf().set(\"spark.driver.host\", \"localhost\")\n",
    "sc = SparkContext.getOrCreate()\n",
    "sc.setLogLevel('OFF')"
   ]
  },
  {
   "cell_type": "code",
   "execution_count": null,
   "id": "541faf6f",
   "metadata": {},
   "outputs": [],
   "source": [
    "business_sf = sc.textFile(\n",
    "    \"../data/SF_business/filtered_registered_business_sf.tsv\")\n",
    "supervisor_sf = sc.textFile(\"../data/SF_business/supervisor_sf.tsv\")"
   ]
  },
  {
   "cell_type": "code",
   "execution_count": null,
   "id": "b718b152",
   "metadata": {},
   "outputs": [],
   "source": [
    "partition_ct = 4"
   ]
  },
  {
   "cell_type": "markdown",
   "id": "8ded9759",
   "metadata": {},
   "source": [
    "## 1. Create an RDD which has partition_ct as the number of partitions  in a format of (zip, supervisor_id) order by zip."
   ]
  },
  {
   "cell_type": "code",
   "execution_count": null,
   "id": "3fa2ff35",
   "metadata": {},
   "outputs": [],
   "source": [
    "sorted_zip_supervisor_id = supervisor_sf"
   ]
  },
  {
   "cell_type": "markdown",
   "id": "dd7a049a",
   "metadata": {},
   "source": [
    "## how the data are organized?\n",
    "- Do same keys locate in the same partition?"
   ]
  },
  {
   "cell_type": "code",
   "execution_count": null,
   "id": "43ebf06e",
   "metadata": {},
   "outputs": [],
   "source": [
    "sorted_zip_supervisor_id.glom().collect()"
   ]
  },
  {
   "cell_type": "markdown",
   "id": "f51b6bdd",
   "metadata": {},
   "source": [
    "## 2. Create an RDD which has partition_ct as the number of partitions in a format of (zip, [name, street, city, zip]) partitioned by zip (hash)."
   ]
  },
  {
   "cell_type": "code",
   "execution_count": null,
   "id": "462f9771",
   "metadata": {},
   "outputs": [],
   "source": [
    "partitioned_zip_business = business_sf.\n"
   ]
  },
  {
   "cell_type": "markdown",
   "id": "6035c70b",
   "metadata": {},
   "source": [
    "## how the data are organized?\n",
    "- Do same keys locate in the same partition?"
   ]
  },
  {
   "cell_type": "code",
   "execution_count": null,
   "id": "cdba2423",
   "metadata": {},
   "outputs": [],
   "source": [
    "partitioned_zip_business.glom().collect()"
   ]
  },
  {
   "cell_type": "markdown",
   "id": "b89e4f04",
   "metadata": {},
   "source": [
    "## 3. Join sorted_zip_supervisor_id and partitioned_zip_business efficiently for any sorted_zip_supervisor_id. (assume that the joined RDDs will be repeatedly used)"
   ]
  },
  {
   "cell_type": "code",
   "execution_count": null,
   "id": "4382e20f",
   "metadata": {},
   "outputs": [],
   "source": []
  },
  {
   "cell_type": "code",
   "execution_count": null,
   "id": "d9c9a1f2",
   "metadata": {},
   "outputs": [],
   "source": [
    "start = time.time()\n",
    "joined_supervisor_business = sorted_zip_supervisor_id.\n",
    "joined_supervisor_business.collect()\n",
    "print(time.time() - start)"
   ]
  },
  {
   "cell_type": "markdown",
   "id": "e047bc3b",
   "metadata": {},
   "source": [
    "# Custom Partitioner"
   ]
  },
  {
   "cell_type": "markdown",
   "id": "662ce7df",
   "metadata": {},
   "source": [
    "## 1) For the range of supervisor ids, create RDD of (supervisor_id, [business name, street, city, state]) within the particion_ct based on the supervisor_id serially.\n",
    "- Ex. if partition_ct is 3, and supervisor ids are [1, 2, 3, 4, 5, 6, 7, 8, 9] => first partition should have pairs with supervisor ids of [1,2,3], second paritition should have pairs with supervisor ids of [4,5,6], third partition should have pairs with supervisor ids of [7,8,9]"
   ]
  },
  {
   "cell_type": "code",
   "execution_count": null,
   "id": "529b6f34",
   "metadata": {},
   "outputs": [],
   "source": [
    "supervisor_business = joined_supervisor_business.values()"
   ]
  },
  {
   "cell_type": "code",
   "execution_count": null,
   "id": "a637203b",
   "metadata": {},
   "outputs": [],
   "source": [
    "supervisor_ids = joined_supervisor_business\\\n",
    "    .values()\\\n",
    "    .keys()\\\n",
    "    .distinct()\\\n",
    "    .sortBy(lambda x: x)\\\n",
    "    .collect()"
   ]
  },
  {
   "cell_type": "code",
   "execution_count": null,
   "id": "6bd2f0f9",
   "metadata": {},
   "outputs": [],
   "source": [
    "supervisor_ids"
   ]
  },
  {
   "cell_type": "code",
   "execution_count": null,
   "id": "bf7de71e",
   "metadata": {},
   "outputs": [],
   "source": [
    "def custom_range_partition(key):\n",
    "   "
   ]
  },
  {
   "cell_type": "code",
   "execution_count": null,
   "id": "49d67ecb",
   "metadata": {},
   "outputs": [],
   "source": [
    "supervisor_business_custom_range = supervisor_business.partitionBy(numPartitions=partition_ct,\n",
    "                                                                   partitionFunc= )\n",
    "supervisor_business_custom_range.saveAsTextFile('supervisor_business_custom_range')"
   ]
  },
  {
   "cell_type": "markdown",
   "id": "ac004289",
   "metadata": {},
   "source": [
    "## 2)  Store pairs of (supervisor_id, [business name, street, city, state]) within 2 partitions, based on whether the supervisor_id is even or odd."
   ]
  },
  {
   "cell_type": "code",
   "execution_count": null,
   "id": "3d0791df",
   "metadata": {},
   "outputs": [],
   "source": [
    "def odd_even_partitioner(key):\n"
   ]
  },
  {
   "cell_type": "code",
   "execution_count": null,
   "id": "19aa13a2",
   "metadata": {},
   "outputs": [],
   "source": [
    "supervisor_business_odd_even = supervisor_business.partitionBy()\n",
    "supervisor_business_odd_even.saveAsTextFile('supervisor_business_odd_even')"
   ]
  },
  {
   "cell_type": "code",
   "execution_count": null,
   "id": "bc7a9675",
   "metadata": {},
   "outputs": [],
   "source": [
    "sc.stop()"
   ]
  },
  {
   "cell_type": "code",
   "execution_count": null,
   "id": "9e963590",
   "metadata": {},
   "outputs": [],
   "source": []
  }
 ],
 "metadata": {
  "kernelspec": {
   "display_name": "Python 3 (ipykernel)",
   "language": "python",
   "name": "python3"
  },
  "language_info": {
   "codemirror_mode": {
    "name": "ipython",
    "version": 3
   },
   "file_extension": ".py",
   "mimetype": "text/x-python",
   "name": "python",
   "nbconvert_exporter": "python",
   "pygments_lexer": "ipython3",
   "version": "3.7.11"
  },
  "varInspector": {
   "cols": {
    "lenName": 16,
    "lenType": 16,
    "lenVar": 40
   },
   "kernels_config": {
    "python": {
     "delete_cmd_postfix": "",
     "delete_cmd_prefix": "del ",
     "library": "var_list.py",
     "varRefreshCmd": "print(var_dic_list())"
    },
    "r": {
     "delete_cmd_postfix": ") ",
     "delete_cmd_prefix": "rm(",
     "library": "var_list.r",
     "varRefreshCmd": "cat(var_dic_list()) "
    }
   },
   "types_to_exclude": [
    "module",
    "function",
    "builtin_function_or_method",
    "instance",
    "_Feature"
   ],
   "window_display": false
  }
 },
 "nbformat": 4,
 "nbformat_minor": 5
}
