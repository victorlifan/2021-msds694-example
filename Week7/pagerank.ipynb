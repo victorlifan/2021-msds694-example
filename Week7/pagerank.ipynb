{
 "cells": [
  {
   "cell_type": "code",
   "execution_count": 1,
   "metadata": {
    "ExecuteTime": {
     "end_time": "2021-01-12T06:22:26.744492Z",
     "start_time": "2021-01-12T06:22:24.302149Z"
    }
   },
   "outputs": [],
   "source": [
    "from pyspark import SparkContext\n",
    "sc = SparkContext.getOrCreate()"
   ]
  },
  {
   "cell_type": "code",
   "execution_count": 2,
   "metadata": {
    "ExecuteTime": {
     "end_time": "2021-01-12T06:22:26.749225Z",
     "start_time": "2021-01-12T06:22:26.746341Z"
    }
   },
   "outputs": [],
   "source": [
    "data =  [(1,[2,3,4]), (2,[1,3]), (3,[4])] #simplified version : could be URL, LIST OF URLS"
   ]
  },
  {
   "cell_type": "code",
   "execution_count": 3,
   "metadata": {
    "ExecuteTime": {
     "end_time": "2021-01-12T06:22:27.012844Z",
     "start_time": "2021-01-12T06:22:26.751956Z"
    }
   },
   "outputs": [],
   "source": [
    "links = sc.parallelize(data).partitionBy(2).cache()"
   ]
  },
  {
   "cell_type": "code",
   "execution_count": 4,
   "metadata": {
    "ExecuteTime": {
     "end_time": "2021-01-12T06:22:27.017569Z",
     "start_time": "2021-01-12T06:22:27.014369Z"
    }
   },
   "outputs": [],
   "source": [
    "ranks = links.map(lambda x: (x[0], 1.0)) #init each rank to 1"
   ]
  },
  {
   "cell_type": "code",
   "execution_count": 5,
   "metadata": {
    "ExecuteTime": {
     "end_time": "2021-01-12T06:22:38.833318Z",
     "start_time": "2021-01-12T06:22:38.831032Z"
    }
   },
   "outputs": [],
   "source": [
    "#compute each url's contribution\n",
    "def computeContribs(urls, rank):\n",
    "    for url in urls:\n",
    "        yield (url, rank / len(urls))"
   ]
  },
  {
   "cell_type": "code",
   "execution_count": 6,
   "metadata": {
    "ExecuteTime": {
     "end_time": "2021-01-12T06:23:34.639044Z",
     "start_time": "2021-01-12T06:23:31.179831Z"
    }
   },
   "outputs": [
    {
     "data": {
      "text/plain": [
       "[(1, 0.2430319557083253),\n",
       " (2, 0.21887340110327186),\n",
       " (3, 0.3119053568115972),\n",
       " (4, 0.4840575158297381)]"
      ]
     },
     "execution_count": 6,
     "metadata": {},
     "output_type": "execute_result"
    }
   ],
   "source": [
    "it_num = 10 #in practice it runs about 10 iterations\n",
    "for i in range (it_num):\n",
    "    contributions = links.join(ranks).flatMap(lambda x : computeContribs(x[1][0],x[1][1]))\n",
    "    ranks = contributions.reduceByKey(lambda x,y : x+y).mapValues(lambda x : x*0.85+0.15)\n",
    "ranks.collect()"
   ]
  },
  {
   "cell_type": "code",
   "execution_count": 7,
   "metadata": {},
   "outputs": [
    {
     "data": {
      "text/plain": [
       "[(1, 0.24302119546889053),\n",
       " (2, 0.21885905411735884),\n",
       " (3, 0.3118802495862494),\n",
       " (4, 0.48397860740721643)]"
      ]
     },
     "execution_count": 7,
     "metadata": {},
     "output_type": "execute_result"
    }
   ],
   "source": [
    "#Basically repeating this block 10+ times.\n",
    "contributions = links.join(ranks).flatMap(lambda x : computeContribs(x[1][0],x[1][1]))\n",
    "contributions.collect()\n",
    "ranks = contributions.reduceByKey(lambda x,y : x+y).mapValues(lambda x : x*0.85+0.15)\n",
    "ranks.collect()"
   ]
  },
  {
   "cell_type": "code",
   "execution_count": null,
   "metadata": {},
   "outputs": [],
   "source": []
  },
  {
   "cell_type": "code",
   "execution_count": null,
   "metadata": {},
   "outputs": [],
   "source": []
  }
 ],
 "metadata": {
  "anaconda-cloud": {},
  "kernelspec": {
   "display_name": "Python 3",
   "language": "python",
   "name": "python3"
  },
  "language_info": {
   "codemirror_mode": {
    "name": "ipython",
    "version": 3
   },
   "file_extension": ".py",
   "mimetype": "text/x-python",
   "name": "python",
   "nbconvert_exporter": "python",
   "pygments_lexer": "ipython3",
   "version": "3.8.2"
  },
  "varInspector": {
   "cols": {
    "lenName": 16,
    "lenType": 16,
    "lenVar": 40
   },
   "kernels_config": {
    "python": {
     "delete_cmd_postfix": "",
     "delete_cmd_prefix": "del ",
     "library": "var_list.py",
     "varRefreshCmd": "print(var_dic_list())"
    },
    "r": {
     "delete_cmd_postfix": ") ",
     "delete_cmd_prefix": "rm(",
     "library": "var_list.r",
     "varRefreshCmd": "cat(var_dic_list()) "
    }
   },
   "types_to_exclude": [
    "module",
    "function",
    "builtin_function_or_method",
    "instance",
    "_Feature"
   ],
   "window_display": false
  }
 },
 "nbformat": 4,
 "nbformat_minor": 2
}
