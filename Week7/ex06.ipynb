{
 "cells": [
  {
   "cell_type": "code",
   "execution_count": 1,
   "metadata": {
    "ExecuteTime": {
     "end_time": "2021-01-11T06:18:50.021018Z",
     "start_time": "2021-01-11T06:18:47.182069Z"
    }
   },
   "outputs": [],
   "source": [
    "from pyspark import SparkContext\n",
    "sc = SparkContext.getOrCreate()"
   ]
  },
  {
   "cell_type": "code",
   "execution_count": 2,
   "metadata": {
    "ExecuteTime": {
     "end_time": "2021-01-11T06:19:09.931103Z",
     "start_time": "2021-01-11T06:19:09.218586Z"
    }
   },
   "outputs": [],
   "source": [
    "# station_id, name, lat, lon, total_num_dock, city, station_installed_date\n",
    "status = sc.textFile('../Data/bike_share/status_million.csv')"
   ]
  },
  {
   "cell_type": "code",
   "execution_count": 3,
   "metadata": {
    "ExecuteTime": {
     "end_time": "2021-01-11T06:19:10.794313Z",
     "start_time": "2021-01-11T06:19:10.775040Z"
    }
   },
   "outputs": [],
   "source": [
    "status = status.map(lambda x: x.split(\",\")).map(lambda x: (x[0], x))  # .partitionBy(10)"
   ]
  },
  {
   "cell_type": "code",
   "execution_count": 4,
   "metadata": {
    "ExecuteTime": {
     "end_time": "2021-01-11T06:19:11.383322Z",
     "start_time": "2021-01-11T06:19:11.381413Z"
    }
   },
   "outputs": [],
   "source": [
    "accumulator_in_transformation = sc.accumulator(0) #incremented within transformation\n",
    "accumulator_in_action = sc.accumulator(0) #incremented within action"
   ]
  },
  {
   "cell_type": "markdown",
   "metadata": {},
   "source": [
    "## 1) See the output of an accumulator value incremented within a transformation"
   ]
  },
  {
   "cell_type": "code",
   "execution_count": 5,
   "metadata": {
    "ExecuteTime": {
     "end_time": "2021-01-11T06:19:14.368918Z",
     "start_time": "2021-01-11T06:19:12.344917Z"
    }
   },
   "outputs": [
    {
     "data": {
      "text/plain": [
       "523623"
      ]
     },
     "execution_count": 5,
     "metadata": {},
     "output_type": "execute_result"
    }
   ],
   "source": [
    "def filter_station(x):\n",
    "    if (x[1][0]== '10'):\n",
    "        accumulator_in_transformation.add(1)    \n",
    "        return x\n",
    "\n",
    "filtered_station_status = status.filter(filter_station)\n",
    "filtered_station_status.count()"
   ]
  },
  {
   "cell_type": "markdown",
   "metadata": {},
   "source": [
    "## 2) See the output of an accumulator value incremented within an action"
   ]
  },
  {
   "cell_type": "code",
   "execution_count": 6,
   "metadata": {
    "ExecuteTime": {
     "end_time": "2021-01-11T06:19:16.842868Z",
     "start_time": "2021-01-11T06:19:15.581548Z"
    }
   },
   "outputs": [],
   "source": [
    "filtered_station_status.foreach(lambda x: accumulator_in_action.add(1))"
   ]
  },
  {
   "cell_type": "code",
   "execution_count": 7,
   "metadata": {
    "ExecuteTime": {
     "end_time": "2021-01-11T06:19:17.893410Z",
     "start_time": "2021-01-11T06:19:16.844578Z"
    }
   },
   "outputs": [
    {
     "name": "stdout",
     "output_type": "stream",
     "text": [
      "523623\n",
      "1570869\n",
      "523623\n"
     ]
    }
   ],
   "source": [
    "print(filtered_station_status.count())\n",
    "print(accumulator_in_transformation.value)\n",
    "print(accumulator_in_action.value)"
   ]
  },
  {
   "cell_type": "code",
   "execution_count": 8,
   "metadata": {
    "ExecuteTime": {
     "end_time": "2021-01-11T06:19:20.898169Z",
     "start_time": "2021-01-11T06:19:20.633902Z"
    }
   },
   "outputs": [],
   "source": [
    "sc.stop()"
   ]
  }
 ],
 "metadata": {
  "anaconda-cloud": {},
  "kernelspec": {
   "display_name": "Python 3",
   "language": "python",
   "name": "python3"
  },
  "language_info": {
   "codemirror_mode": {
    "name": "ipython",
    "version": 3
   },
   "file_extension": ".py",
   "mimetype": "text/x-python",
   "name": "python",
   "nbconvert_exporter": "python",
   "pygments_lexer": "ipython3",
   "version": "3.8.2"
  },
  "varInspector": {
   "cols": {
    "lenName": 16,
    "lenType": 16,
    "lenVar": 40
   },
   "kernels_config": {
    "python": {
     "delete_cmd_postfix": "",
     "delete_cmd_prefix": "del ",
     "library": "var_list.py",
     "varRefreshCmd": "print(var_dic_list())"
    },
    "r": {
     "delete_cmd_postfix": ") ",
     "delete_cmd_prefix": "rm(",
     "library": "var_list.r",
     "varRefreshCmd": "cat(var_dic_list()) "
    }
   },
   "types_to_exclude": [
    "module",
    "function",
    "builtin_function_or_method",
    "instance",
    "_Feature"
   ],
   "window_display": false
  }
 },
 "nbformat": 4,
 "nbformat_minor": 2
}
