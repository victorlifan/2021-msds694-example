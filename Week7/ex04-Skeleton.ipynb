{
 "cells": [
  {
   "cell_type": "code",
   "execution_count": null,
   "metadata": {
    "ExecuteTime": {
     "end_time": "2021-01-11T06:15:02.811837Z",
     "start_time": "2021-01-11T06:14:59.824456Z"
    }
   },
   "outputs": [],
   "source": [
    "from pyspark import SparkContext\n",
    "sc = SparkContext.getOrCreate()"
   ]
  },
  {
   "cell_type": "code",
   "execution_count": null,
   "metadata": {
    "ExecuteTime": {
     "end_time": "2021-01-11T06:15:02.824202Z",
     "start_time": "2021-01-11T06:15:02.813897Z"
    }
   },
   "outputs": [],
   "source": [
    "sc"
   ]
  },
  {
   "cell_type": "code",
   "execution_count": null,
   "metadata": {
    "ExecuteTime": {
     "end_time": "2021-01-11T06:15:02.828187Z",
     "start_time": "2021-01-11T06:15:02.826209Z"
    }
   },
   "outputs": [],
   "source": [
    "import random"
   ]
  },
  {
   "cell_type": "markdown",
   "metadata": {},
   "source": [
    "# What are the types of dependencies in the following code?"
   ]
  },
  {
   "cell_type": "markdown",
   "metadata": {},
   "source": [
    "### Create list size of 500 with integer between 0 and 9."
   ]
  },
  {
   "cell_type": "code",
   "execution_count": null,
   "metadata": {
    "ExecuteTime": {
     "end_time": "2021-01-11T06:15:04.215446Z",
     "start_time": "2021-01-11T06:15:04.212170Z"
    }
   },
   "outputs": [],
   "source": [
    "list = [random.randrange(10) for x in range(500)]"
   ]
  },
  {
   "cell_type": "code",
   "execution_count": null,
   "metadata": {
    "ExecuteTime": {
     "end_time": "2021-01-11T06:15:04.826532Z",
     "start_time": "2021-01-11T06:15:04.564925Z"
    }
   },
   "outputs": [],
   "source": [
    "listrdd = sc.parallelize(list, 5)"
   ]
  },
  {
   "cell_type": "code",
   "execution_count": null,
   "metadata": {
    "ExecuteTime": {
     "end_time": "2021-01-11T06:15:04.857427Z",
     "start_time": "2021-01-11T06:15:04.853025Z"
    }
   },
   "outputs": [],
   "source": [
    "pairs = listrdd.map(lambda x : (x,x*x))"
   ]
  },
  {
   "cell_type": "code",
   "execution_count": null,
   "metadata": {
    "ExecuteTime": {
     "end_time": "2021-01-11T06:15:06.421581Z",
     "start_time": "2021-01-11T06:15:05.166821Z"
    }
   },
   "outputs": [],
   "source": [
    "pairs.collect()"
   ]
  },
  {
   "cell_type": "code",
   "execution_count": null,
   "metadata": {
    "ExecuteTime": {
     "end_time": "2021-01-11T06:15:06.452164Z",
     "start_time": "2021-01-11T06:15:06.423453Z"
    }
   },
   "outputs": [],
   "source": [
    "reduced = pairs.reduceByKey(lambda x1,x2  : x1+x2)"
   ]
  },
  {
   "cell_type": "markdown",
   "metadata": {},
   "source": [
    "### mapPartitions() : Return a new RDD by applying a function to each partition of this RDD."
   ]
  },
  {
   "cell_type": "code",
   "execution_count": null,
   "metadata": {
    "ExecuteTime": {
     "end_time": "2021-01-11T06:15:06.456611Z",
     "start_time": "2021-01-11T06:15:06.454203Z"
    }
   },
   "outputs": [],
   "source": [
    "finalRDD = reduced.mapPartitions(lambda itr : [\"Key = \" + str(key) +\", Value = \" + str(val) for (key,val) in itr])"
   ]
  },
  {
   "cell_type": "code",
   "execution_count": null,
   "metadata": {
    "ExecuteTime": {
     "end_time": "2021-01-11T06:15:07.340828Z",
     "start_time": "2021-01-11T06:15:06.933292Z"
    }
   },
   "outputs": [],
   "source": [
    "finalRDD.collect()"
   ]
  },
  {
   "cell_type": "markdown",
   "metadata": {},
   "source": [
    "## .toDebugString()"
   ]
  },
  {
   "cell_type": "code",
   "execution_count": null,
   "metadata": {
    "ExecuteTime": {
     "end_time": "2021-01-11T06:15:08.007294Z",
     "start_time": "2021-01-11T06:15:07.999410Z"
    }
   },
   "outputs": [],
   "source": []
  },
  {
   "cell_type": "markdown",
   "metadata": {},
   "source": [
    "## reduceByKey() and sortByKey()"
   ]
  },
  {
   "cell_type": "code",
   "execution_count": null,
   "metadata": {
    "ExecuteTime": {
     "end_time": "2021-01-11T06:15:11.302130Z",
     "start_time": "2021-01-11T06:15:11.105965Z"
    }
   },
   "outputs": [],
   "source": [
    "ordered_finalRDD = pairs.reduceByKey(lambda x1,x2  : x1+x2).sortByKey()"
   ]
  },
  {
   "cell_type": "code",
   "execution_count": null,
   "metadata": {
    "ExecuteTime": {
     "end_time": "2021-01-11T06:15:11.513860Z",
     "start_time": "2021-01-11T06:15:11.400856Z"
    }
   },
   "outputs": [],
   "source": [
    "ordered_finalRDD.collect()"
   ]
  },
  {
   "cell_type": "code",
   "execution_count": null,
   "metadata": {
    "ExecuteTime": {
     "end_time": "2021-01-11T06:15:11.816283Z",
     "start_time": "2021-01-11T06:15:11.811602Z"
    }
   },
   "outputs": [],
   "source": [
    "print(ordered_finalRDD.toDebugString().decode('utf-8'))"
   ]
  },
  {
   "cell_type": "markdown",
   "metadata": {},
   "source": [
    "## .coalesce() vs .repartition()"
   ]
  },
  {
   "cell_type": "code",
   "execution_count": null,
   "metadata": {
    "ExecuteTime": {
     "end_time": "2021-01-11T06:15:12.789580Z",
     "start_time": "2021-01-11T06:15:12.785238Z"
    }
   },
   "outputs": [],
   "source": [
    "coalesce = ordered_finalRDD.coalesce(3)"
   ]
  },
  {
   "cell_type": "code",
   "execution_count": null,
   "metadata": {
    "ExecuteTime": {
     "end_time": "2021-01-11T06:15:13.326067Z",
     "start_time": "2021-01-11T06:15:13.312469Z"
    }
   },
   "outputs": [],
   "source": [
    "print(coalesce.toDebugString().decode('utf-8'))"
   ]
  },
  {
   "cell_type": "code",
   "execution_count": null,
   "metadata": {
    "ExecuteTime": {
     "end_time": "2021-01-11T06:15:13.738009Z",
     "start_time": "2021-01-11T06:15:13.721951Z"
    }
   },
   "outputs": [],
   "source": [
    "repartition = ordered_finalRDD.repartition(3)"
   ]
  },
  {
   "cell_type": "code",
   "execution_count": null,
   "metadata": {
    "ExecuteTime": {
     "end_time": "2021-01-11T06:15:14.246190Z",
     "start_time": "2021-01-11T06:15:14.240882Z"
    }
   },
   "outputs": [],
   "source": [
    "print(repartition.toDebugString().decode('utf-8'))"
   ]
  },
  {
   "cell_type": "markdown",
   "metadata": {},
   "source": [
    "### Checkpoint : Checkpoint finalRDD and see its debug string."
   ]
  },
  {
   "cell_type": "code",
   "execution_count": null,
   "metadata": {
    "ExecuteTime": {
     "end_time": "2021-01-11T06:15:15.618403Z",
     "start_time": "2021-01-11T06:15:15.198178Z"
    }
   },
   "outputs": [],
   "source": [
    "print(repartition.toDebugString().decode('utf-8'))\n",
    "\n",
    "sc.setCheckpointDir(\"checkpoint\")\n",
    "repartition.checkpoint() # all references to its parent RDDs will be removed.\n",
    "print(repartition.isCheckpointed()) # not checkpointed until action()\n",
    "\n",
    "repartition.count()\n",
    "print(repartition.isCheckpointed())\n",
    "print(repartition.getCheckpointFile())"
   ]
  },
  {
   "cell_type": "code",
   "execution_count": null,
   "metadata": {
    "ExecuteTime": {
     "end_time": "2021-01-11T06:15:17.473114Z",
     "start_time": "2021-01-11T06:15:17.469936Z"
    }
   },
   "outputs": [],
   "source": [
    "print(repartition.toDebugString().decode('utf-8'))"
   ]
  },
  {
   "cell_type": "code",
   "execution_count": null,
   "metadata": {
    "ExecuteTime": {
     "end_time": "2021-01-11T06:15:22.511117Z",
     "start_time": "2021-01-11T06:15:21.934746Z"
    }
   },
   "outputs": [],
   "source": [
    "sc.stop()"
   ]
  },
  {
   "cell_type": "code",
   "execution_count": null,
   "metadata": {},
   "outputs": [],
   "source": []
  }
 ],
 "metadata": {
  "anaconda-cloud": {},
  "kernelspec": {
   "display_name": "Python 3 (ipykernel)",
   "language": "python",
   "name": "python3"
  },
  "language_info": {
   "codemirror_mode": {
    "name": "ipython",
    "version": 3
   },
   "file_extension": ".py",
   "mimetype": "text/x-python",
   "name": "python",
   "nbconvert_exporter": "python",
   "pygments_lexer": "ipython3",
   "version": "3.8.12"
  },
  "varInspector": {
   "cols": {
    "lenName": 16,
    "lenType": 16,
    "lenVar": 40
   },
   "kernels_config": {
    "python": {
     "delete_cmd_postfix": "",
     "delete_cmd_prefix": "del ",
     "library": "var_list.py",
     "varRefreshCmd": "print(var_dic_list())"
    },
    "r": {
     "delete_cmd_postfix": ") ",
     "delete_cmd_prefix": "rm(",
     "library": "var_list.r",
     "varRefreshCmd": "cat(var_dic_list()) "
    }
   },
   "types_to_exclude": [
    "module",
    "function",
    "builtin_function_or_method",
    "instance",
    "_Feature"
   ],
   "window_display": false
  }
 },
 "nbformat": 4,
 "nbformat_minor": 4
}
