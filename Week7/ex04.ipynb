{
 "cells": [
  {
   "cell_type": "code",
   "execution_count": 1,
   "metadata": {
    "ExecuteTime": {
     "end_time": "2021-01-11T06:15:02.811837Z",
     "start_time": "2021-01-11T06:14:59.824456Z"
    }
   },
   "outputs": [
    {
     "name": "stderr",
     "output_type": "stream",
     "text": [
      "Using Spark's default log4j profile: org/apache/spark/log4j-defaults.properties\n",
      "Setting default log level to \"WARN\".\n",
      "To adjust logging level use sc.setLogLevel(newLevel). For SparkR, use setLogLevel(newLevel).\n",
      "21/12/02 17:52:02 WARN NativeCodeLoader: Unable to load native-hadoop library for your platform... using builtin-java classes where applicable\n",
      "21/12/02 17:52:02 WARN Utils: Service 'SparkUI' could not bind on port 4040. Attempting port 4041.\n",
      "21/12/02 17:52:02 WARN Utils: Service 'SparkUI' could not bind on port 4041. Attempting port 4042.\n"
     ]
    }
   ],
   "source": [
    "from pyspark import SparkContext\n",
    "sc = SparkContext.getOrCreate()"
   ]
  },
  {
   "cell_type": "code",
   "execution_count": 2,
   "metadata": {
    "ExecuteTime": {
     "end_time": "2021-01-11T06:15:02.824202Z",
     "start_time": "2021-01-11T06:15:02.813897Z"
    }
   },
   "outputs": [
    {
     "data": {
      "text/html": [
       "\n",
       "        <div>\n",
       "            <p><b>SparkContext</b></p>\n",
       "\n",
       "            <p><a href=\"http://192.168.0.126:4042\">Spark UI</a></p>\n",
       "\n",
       "            <dl>\n",
       "              <dt>Version</dt>\n",
       "                <dd><code>v3.2.0</code></dd>\n",
       "              <dt>Master</dt>\n",
       "                <dd><code>local[*]</code></dd>\n",
       "              <dt>AppName</dt>\n",
       "                <dd><code>pyspark-shell</code></dd>\n",
       "            </dl>\n",
       "        </div>\n",
       "        "
      ],
      "text/plain": [
       "<SparkContext master=local[*] appName=pyspark-shell>"
      ]
     },
     "execution_count": 2,
     "metadata": {},
     "output_type": "execute_result"
    }
   ],
   "source": [
    "sc"
   ]
  },
  {
   "cell_type": "code",
   "execution_count": 3,
   "metadata": {
    "ExecuteTime": {
     "end_time": "2021-01-11T06:15:02.828187Z",
     "start_time": "2021-01-11T06:15:02.826209Z"
    }
   },
   "outputs": [],
   "source": [
    "import random"
   ]
  },
  {
   "cell_type": "markdown",
   "metadata": {},
   "source": [
    "# What are the types of dependencies in the following code?"
   ]
  },
  {
   "cell_type": "markdown",
   "metadata": {},
   "source": [
    "### Create list size of 500 with integer between 0 and 9."
   ]
  },
  {
   "cell_type": "code",
   "execution_count": 4,
   "metadata": {
    "ExecuteTime": {
     "end_time": "2021-01-11T06:15:04.215446Z",
     "start_time": "2021-01-11T06:15:04.212170Z"
    }
   },
   "outputs": [],
   "source": [
    "list = [random.randrange(10) for x in range(500)]"
   ]
  },
  {
   "cell_type": "code",
   "execution_count": 5,
   "metadata": {
    "ExecuteTime": {
     "end_time": "2021-01-11T06:15:04.826532Z",
     "start_time": "2021-01-11T06:15:04.564925Z"
    }
   },
   "outputs": [],
   "source": [
    "listrdd = sc.parallelize(list, 5)"
   ]
  },
  {
   "cell_type": "code",
   "execution_count": 6,
   "metadata": {
    "ExecuteTime": {
     "end_time": "2021-01-11T06:15:04.857427Z",
     "start_time": "2021-01-11T06:15:04.853025Z"
    }
   },
   "outputs": [],
   "source": [
    "pairs = listrdd.map(lambda x : (x,x*x))"
   ]
  },
  {
   "cell_type": "code",
   "execution_count": 7,
   "metadata": {
    "ExecuteTime": {
     "end_time": "2021-01-11T06:15:06.421581Z",
     "start_time": "2021-01-11T06:15:05.166821Z"
    }
   },
   "outputs": [
    {
     "name": "stderr",
     "output_type": "stream",
     "text": [
      "                                                                                \r"
     ]
    },
    {
     "data": {
      "text/plain": [
       "[(4, 16),\n",
       " (6, 36),\n",
       " (0, 0),\n",
       " (8, 64),\n",
       " (5, 25),\n",
       " (1, 1),\n",
       " (4, 16),\n",
       " (4, 16),\n",
       " (2, 4),\n",
       " (9, 81),\n",
       " (2, 4),\n",
       " (2, 4),\n",
       " (4, 16),\n",
       " (0, 0),\n",
       " (1, 1),\n",
       " (0, 0),\n",
       " (3, 9),\n",
       " (4, 16),\n",
       " (6, 36),\n",
       " (0, 0),\n",
       " (4, 16),\n",
       " (0, 0),\n",
       " (4, 16),\n",
       " (3, 9),\n",
       " (1, 1),\n",
       " (9, 81),\n",
       " (9, 81),\n",
       " (5, 25),\n",
       " (2, 4),\n",
       " (4, 16),\n",
       " (6, 36),\n",
       " (5, 25),\n",
       " (8, 64),\n",
       " (6, 36),\n",
       " (9, 81),\n",
       " (3, 9),\n",
       " (9, 81),\n",
       " (5, 25),\n",
       " (2, 4),\n",
       " (3, 9),\n",
       " (2, 4),\n",
       " (2, 4),\n",
       " (6, 36),\n",
       " (4, 16),\n",
       " (4, 16),\n",
       " (3, 9),\n",
       " (9, 81),\n",
       " (8, 64),\n",
       " (8, 64),\n",
       " (4, 16),\n",
       " (5, 25),\n",
       " (7, 49),\n",
       " (4, 16),\n",
       " (3, 9),\n",
       " (3, 9),\n",
       " (5, 25),\n",
       " (2, 4),\n",
       " (1, 1),\n",
       " (3, 9),\n",
       " (2, 4),\n",
       " (1, 1),\n",
       " (8, 64),\n",
       " (5, 25),\n",
       " (4, 16),\n",
       " (6, 36),\n",
       " (9, 81),\n",
       " (4, 16),\n",
       " (7, 49),\n",
       " (0, 0),\n",
       " (5, 25),\n",
       " (6, 36),\n",
       " (0, 0),\n",
       " (8, 64),\n",
       " (6, 36),\n",
       " (0, 0),\n",
       " (1, 1),\n",
       " (9, 81),\n",
       " (2, 4),\n",
       " (9, 81),\n",
       " (0, 0),\n",
       " (3, 9),\n",
       " (2, 4),\n",
       " (9, 81),\n",
       " (9, 81),\n",
       " (4, 16),\n",
       " (3, 9),\n",
       " (3, 9),\n",
       " (4, 16),\n",
       " (9, 81),\n",
       " (8, 64),\n",
       " (9, 81),\n",
       " (5, 25),\n",
       " (7, 49),\n",
       " (1, 1),\n",
       " (7, 49),\n",
       " (0, 0),\n",
       " (1, 1),\n",
       " (8, 64),\n",
       " (2, 4),\n",
       " (2, 4),\n",
       " (7, 49),\n",
       " (1, 1),\n",
       " (1, 1),\n",
       " (0, 0),\n",
       " (4, 16),\n",
       " (3, 9),\n",
       " (7, 49),\n",
       " (9, 81),\n",
       " (3, 9),\n",
       " (8, 64),\n",
       " (0, 0),\n",
       " (3, 9),\n",
       " (1, 1),\n",
       " (2, 4),\n",
       " (6, 36),\n",
       " (5, 25),\n",
       " (7, 49),\n",
       " (7, 49),\n",
       " (8, 64),\n",
       " (2, 4),\n",
       " (4, 16),\n",
       " (3, 9),\n",
       " (2, 4),\n",
       " (2, 4),\n",
       " (0, 0),\n",
       " (1, 1),\n",
       " (1, 1),\n",
       " (9, 81),\n",
       " (6, 36),\n",
       " (0, 0),\n",
       " (7, 49),\n",
       " (0, 0),\n",
       " (6, 36),\n",
       " (4, 16),\n",
       " (0, 0),\n",
       " (2, 4),\n",
       " (9, 81),\n",
       " (7, 49),\n",
       " (9, 81),\n",
       " (2, 4),\n",
       " (6, 36),\n",
       " (2, 4),\n",
       " (9, 81),\n",
       " (5, 25),\n",
       " (8, 64),\n",
       " (5, 25),\n",
       " (8, 64),\n",
       " (3, 9),\n",
       " (4, 16),\n",
       " (9, 81),\n",
       " (8, 64),\n",
       " (8, 64),\n",
       " (0, 0),\n",
       " (8, 64),\n",
       " (3, 9),\n",
       " (1, 1),\n",
       " (3, 9),\n",
       " (0, 0),\n",
       " (4, 16),\n",
       " (0, 0),\n",
       " (8, 64),\n",
       " (3, 9),\n",
       " (6, 36),\n",
       " (5, 25),\n",
       " (5, 25),\n",
       " (3, 9),\n",
       " (8, 64),\n",
       " (4, 16),\n",
       " (5, 25),\n",
       " (9, 81),\n",
       " (6, 36),\n",
       " (0, 0),\n",
       " (0, 0),\n",
       " (5, 25),\n",
       " (2, 4),\n",
       " (6, 36),\n",
       " (0, 0),\n",
       " (4, 16),\n",
       " (9, 81),\n",
       " (2, 4),\n",
       " (1, 1),\n",
       " (8, 64),\n",
       " (5, 25),\n",
       " (3, 9),\n",
       " (9, 81),\n",
       " (8, 64),\n",
       " (0, 0),\n",
       " (7, 49),\n",
       " (8, 64),\n",
       " (6, 36),\n",
       " (4, 16),\n",
       " (5, 25),\n",
       " (9, 81),\n",
       " (0, 0),\n",
       " (8, 64),\n",
       " (7, 49),\n",
       " (9, 81),\n",
       " (7, 49),\n",
       " (5, 25),\n",
       " (4, 16),\n",
       " (9, 81),\n",
       " (7, 49),\n",
       " (1, 1),\n",
       " (2, 4),\n",
       " (4, 16),\n",
       " (0, 0),\n",
       " (2, 4),\n",
       " (4, 16),\n",
       " (0, 0),\n",
       " (8, 64),\n",
       " (3, 9),\n",
       " (6, 36),\n",
       " (8, 64),\n",
       " (9, 81),\n",
       " (6, 36),\n",
       " (0, 0),\n",
       " (7, 49),\n",
       " (0, 0),\n",
       " (2, 4),\n",
       " (5, 25),\n",
       " (6, 36),\n",
       " (0, 0),\n",
       " (7, 49),\n",
       " (6, 36),\n",
       " (2, 4),\n",
       " (3, 9),\n",
       " (6, 36),\n",
       " (5, 25),\n",
       " (1, 1),\n",
       " (5, 25),\n",
       " (9, 81),\n",
       " (5, 25),\n",
       " (3, 9),\n",
       " (5, 25),\n",
       " (2, 4),\n",
       " (3, 9),\n",
       " (8, 64),\n",
       " (2, 4),\n",
       " (3, 9),\n",
       " (9, 81),\n",
       " (5, 25),\n",
       " (9, 81),\n",
       " (8, 64),\n",
       " (0, 0),\n",
       " (8, 64),\n",
       " (9, 81),\n",
       " (3, 9),\n",
       " (3, 9),\n",
       " (4, 16),\n",
       " (4, 16),\n",
       " (7, 49),\n",
       " (4, 16),\n",
       " (4, 16),\n",
       " (8, 64),\n",
       " (9, 81),\n",
       " (6, 36),\n",
       " (3, 9),\n",
       " (2, 4),\n",
       " (3, 9),\n",
       " (6, 36),\n",
       " (7, 49),\n",
       " (4, 16),\n",
       " (5, 25),\n",
       " (2, 4),\n",
       " (1, 1),\n",
       " (4, 16),\n",
       " (0, 0),\n",
       " (0, 0),\n",
       " (3, 9),\n",
       " (3, 9),\n",
       " (9, 81),\n",
       " (6, 36),\n",
       " (4, 16),\n",
       " (4, 16),\n",
       " (8, 64),\n",
       " (7, 49),\n",
       " (4, 16),\n",
       " (4, 16),\n",
       " (4, 16),\n",
       " (3, 9),\n",
       " (8, 64),\n",
       " (7, 49),\n",
       " (7, 49),\n",
       " (1, 1),\n",
       " (7, 49),\n",
       " (8, 64),\n",
       " (0, 0),\n",
       " (5, 25),\n",
       " (3, 9),\n",
       " (6, 36),\n",
       " (7, 49),\n",
       " (3, 9),\n",
       " (7, 49),\n",
       " (1, 1),\n",
       " (5, 25),\n",
       " (8, 64),\n",
       " (3, 9),\n",
       " (2, 4),\n",
       " (8, 64),\n",
       " (4, 16),\n",
       " (9, 81),\n",
       " (2, 4),\n",
       " (0, 0),\n",
       " (2, 4),\n",
       " (2, 4),\n",
       " (4, 16),\n",
       " (0, 0),\n",
       " (0, 0),\n",
       " (6, 36),\n",
       " (8, 64),\n",
       " (0, 0),\n",
       " (8, 64),\n",
       " (7, 49),\n",
       " (2, 4),\n",
       " (3, 9),\n",
       " (0, 0),\n",
       " (4, 16),\n",
       " (7, 49),\n",
       " (9, 81),\n",
       " (5, 25),\n",
       " (9, 81),\n",
       " (6, 36),\n",
       " (6, 36),\n",
       " (9, 81),\n",
       " (6, 36),\n",
       " (6, 36),\n",
       " (8, 64),\n",
       " (4, 16),\n",
       " (4, 16),\n",
       " (2, 4),\n",
       " (5, 25),\n",
       " (2, 4),\n",
       " (7, 49),\n",
       " (5, 25),\n",
       " (8, 64),\n",
       " (1, 1),\n",
       " (4, 16),\n",
       " (1, 1),\n",
       " (8, 64),\n",
       " (4, 16),\n",
       " (7, 49),\n",
       " (6, 36),\n",
       " (7, 49),\n",
       " (6, 36),\n",
       " (6, 36),\n",
       " (1, 1),\n",
       " (0, 0),\n",
       " (5, 25),\n",
       " (4, 16),\n",
       " (6, 36),\n",
       " (4, 16),\n",
       " (4, 16),\n",
       " (8, 64),\n",
       " (4, 16),\n",
       " (2, 4),\n",
       " (4, 16),\n",
       " (1, 1),\n",
       " (5, 25),\n",
       " (1, 1),\n",
       " (3, 9),\n",
       " (5, 25),\n",
       " (8, 64),\n",
       " (0, 0),\n",
       " (3, 9),\n",
       " (7, 49),\n",
       " (0, 0),\n",
       " (9, 81),\n",
       " (0, 0),\n",
       " (0, 0),\n",
       " (3, 9),\n",
       " (1, 1),\n",
       " (6, 36),\n",
       " (1, 1),\n",
       " (9, 81),\n",
       " (0, 0),\n",
       " (6, 36),\n",
       " (0, 0),\n",
       " (0, 0),\n",
       " (5, 25),\n",
       " (5, 25),\n",
       " (4, 16),\n",
       " (3, 9),\n",
       " (6, 36),\n",
       " (2, 4),\n",
       " (6, 36),\n",
       " (8, 64),\n",
       " (3, 9),\n",
       " (5, 25),\n",
       " (2, 4),\n",
       " (9, 81),\n",
       " (4, 16),\n",
       " (1, 1),\n",
       " (2, 4),\n",
       " (8, 64),\n",
       " (6, 36),\n",
       " (0, 0),\n",
       " (3, 9),\n",
       " (1, 1),\n",
       " (7, 49),\n",
       " (6, 36),\n",
       " (1, 1),\n",
       " (6, 36),\n",
       " (2, 4),\n",
       " (3, 9),\n",
       " (9, 81),\n",
       " (3, 9),\n",
       " (2, 4),\n",
       " (3, 9),\n",
       " (4, 16),\n",
       " (5, 25),\n",
       " (5, 25),\n",
       " (7, 49),\n",
       " (6, 36),\n",
       " (3, 9),\n",
       " (8, 64),\n",
       " (6, 36),\n",
       " (0, 0),\n",
       " (2, 4),\n",
       " (1, 1),\n",
       " (2, 4),\n",
       " (5, 25),\n",
       " (0, 0),\n",
       " (8, 64),\n",
       " (1, 1),\n",
       " (8, 64),\n",
       " (1, 1),\n",
       " (4, 16),\n",
       " (3, 9),\n",
       " (7, 49),\n",
       " (5, 25),\n",
       " (0, 0),\n",
       " (1, 1),\n",
       " (3, 9),\n",
       " (4, 16),\n",
       " (8, 64),\n",
       " (8, 64),\n",
       " (7, 49),\n",
       " (4, 16),\n",
       " (2, 4),\n",
       " (2, 4),\n",
       " (4, 16),\n",
       " (0, 0),\n",
       " (9, 81),\n",
       " (0, 0),\n",
       " (5, 25),\n",
       " (0, 0),\n",
       " (9, 81),\n",
       " (9, 81),\n",
       " (1, 1),\n",
       " (5, 25),\n",
       " (7, 49),\n",
       " (6, 36),\n",
       " (8, 64),\n",
       " (8, 64),\n",
       " (9, 81),\n",
       " (4, 16),\n",
       " (6, 36),\n",
       " (4, 16),\n",
       " (1, 1),\n",
       " (0, 0),\n",
       " (4, 16),\n",
       " (5, 25),\n",
       " (6, 36),\n",
       " (9, 81),\n",
       " (4, 16),\n",
       " (6, 36),\n",
       " (5, 25),\n",
       " (1, 1),\n",
       " (6, 36),\n",
       " (5, 25),\n",
       " (9, 81),\n",
       " (2, 4),\n",
       " (3, 9),\n",
       " (2, 4),\n",
       " (5, 25),\n",
       " (9, 81),\n",
       " (1, 1),\n",
       " (5, 25),\n",
       " (1, 1),\n",
       " (1, 1),\n",
       " (9, 81),\n",
       " (7, 49),\n",
       " (6, 36),\n",
       " (9, 81),\n",
       " (5, 25),\n",
       " (8, 64),\n",
       " (0, 0),\n",
       " (9, 81),\n",
       " (0, 0),\n",
       " (6, 36),\n",
       " (9, 81),\n",
       " (6, 36),\n",
       " (2, 4),\n",
       " (2, 4),\n",
       " (2, 4),\n",
       " (9, 81),\n",
       " (8, 64),\n",
       " (6, 36),\n",
       " (2, 4),\n",
       " (5, 25)]"
      ]
     },
     "execution_count": 7,
     "metadata": {},
     "output_type": "execute_result"
    }
   ],
   "source": [
    "pairs.collect()"
   ]
  },
  {
   "cell_type": "code",
   "execution_count": 8,
   "metadata": {
    "ExecuteTime": {
     "end_time": "2021-01-11T06:15:06.452164Z",
     "start_time": "2021-01-11T06:15:06.423453Z"
    }
   },
   "outputs": [],
   "source": [
    "reduced = pairs.reduceByKey(lambda x1,x2  : x1+x2)"
   ]
  },
  {
   "cell_type": "markdown",
   "metadata": {},
   "source": [
    "### mapPartitions() : Return a new RDD by applying a function to each partition of this RDD."
   ]
  },
  {
   "cell_type": "code",
   "execution_count": 9,
   "metadata": {
    "ExecuteTime": {
     "end_time": "2021-01-11T06:15:06.456611Z",
     "start_time": "2021-01-11T06:15:06.454203Z"
    }
   },
   "outputs": [],
   "source": [
    "finalRDD = reduced.mapPartitions(lambda itr : [\"Key = \" + str(key) +\", Value = \" + str(val) for (key,val) in itr])"
   ]
  },
  {
   "cell_type": "code",
   "execution_count": 10,
   "metadata": {
    "ExecuteTime": {
     "end_time": "2021-01-11T06:15:07.340828Z",
     "start_time": "2021-01-11T06:15:06.933292Z"
    }
   },
   "outputs": [
    {
     "data": {
      "text/plain": [
       "['Key = 0, Value = 0',\n",
       " 'Key = 5, Value = 1250',\n",
       " 'Key = 6, Value = 1872',\n",
       " 'Key = 1, Value = 40',\n",
       " 'Key = 2, Value = 212',\n",
       " 'Key = 7, Value = 1764',\n",
       " 'Key = 8, Value = 3200',\n",
       " 'Key = 3, Value = 450',\n",
       " 'Key = 4, Value = 976',\n",
       " 'Key = 9, Value = 4212']"
      ]
     },
     "execution_count": 10,
     "metadata": {},
     "output_type": "execute_result"
    }
   ],
   "source": [
    "finalRDD.collect()"
   ]
  },
  {
   "cell_type": "markdown",
   "metadata": {},
   "source": [
    "## .toDebugString()"
   ]
  },
  {
   "cell_type": "code",
   "execution_count": 11,
   "metadata": {
    "ExecuteTime": {
     "end_time": "2021-01-11T06:15:08.007294Z",
     "start_time": "2021-01-11T06:15:07.999410Z"
    }
   },
   "outputs": [
    {
     "name": "stdout",
     "output_type": "stream",
     "text": [
      "(5) PythonRDD[7] at RDD at PythonRDD.scala:53 []\n",
      " |  MapPartitionsRDD[5] at mapPartitions at PythonRDD.scala:145 []\n",
      " |  ShuffledRDD[4] at partitionBy at NativeMethodAccessorImpl.java:0 []\n",
      " +-(5) PairwiseRDD[3] at reduceByKey at /var/folders/0q/77jvn_416ybbg7m9_c4f7xkw2wwy7f/T/ipykernel_15702/3506837727.py:1 []\n",
      "    |  PythonRDD[2] at reduceByKey at /var/folders/0q/77jvn_416ybbg7m9_c4f7xkw2wwy7f/T/ipykernel_15702/3506837727.py:1 []\n",
      "    |  ParallelCollectionRDD[0] at readRDDFromFile at PythonRDD.scala:274 []\n"
     ]
    }
   ],
   "source": [
    "print(finalRDD.toDebugString().decode('utf-8'))"
   ]
  },
  {
   "cell_type": "markdown",
   "metadata": {},
   "source": [
    "## reduceByKey() and sortByKey()"
   ]
  },
  {
   "cell_type": "code",
   "execution_count": 12,
   "metadata": {
    "ExecuteTime": {
     "end_time": "2021-01-11T06:15:11.302130Z",
     "start_time": "2021-01-11T06:15:11.105965Z"
    }
   },
   "outputs": [],
   "source": [
    "ordered_finalRDD = pairs.reduceByKey(lambda x1,x2  : x1+x2).sortByKey()"
   ]
  },
  {
   "cell_type": "code",
   "execution_count": 13,
   "metadata": {
    "ExecuteTime": {
     "end_time": "2021-01-11T06:15:11.513860Z",
     "start_time": "2021-01-11T06:15:11.400856Z"
    }
   },
   "outputs": [
    {
     "data": {
      "text/plain": [
       "[(0, 0),\n",
       " (1, 40),\n",
       " (2, 212),\n",
       " (3, 450),\n",
       " (4, 976),\n",
       " (5, 1250),\n",
       " (6, 1872),\n",
       " (7, 1764),\n",
       " (8, 3200),\n",
       " (9, 4212)]"
      ]
     },
     "execution_count": 13,
     "metadata": {},
     "output_type": "execute_result"
    }
   ],
   "source": [
    "ordered_finalRDD.collect()"
   ]
  },
  {
   "cell_type": "code",
   "execution_count": 14,
   "metadata": {
    "ExecuteTime": {
     "end_time": "2021-01-11T06:15:11.816283Z",
     "start_time": "2021-01-11T06:15:11.811602Z"
    }
   },
   "outputs": [
    {
     "name": "stdout",
     "output_type": "stream",
     "text": [
      "(5) PythonRDD[18] at RDD at PythonRDD.scala:53 []\n",
      " |  MapPartitionsRDD[17] at mapPartitions at PythonRDD.scala:145 []\n",
      " |  ShuffledRDD[16] at partitionBy at NativeMethodAccessorImpl.java:0 []\n",
      " +-(5) PairwiseRDD[15] at sortByKey at /var/folders/0q/77jvn_416ybbg7m9_c4f7xkw2wwy7f/T/ipykernel_15702/2115743113.py:1 []\n",
      "    |  PythonRDD[14] at sortByKey at /var/folders/0q/77jvn_416ybbg7m9_c4f7xkw2wwy7f/T/ipykernel_15702/2115743113.py:1 []\n",
      "    |  MapPartitionsRDD[11] at mapPartitions at PythonRDD.scala:145 []\n",
      "    |  ShuffledRDD[10] at partitionBy at NativeMethodAccessorImpl.java:0 []\n",
      "    +-(5) PairwiseRDD[9] at reduceByKey at /var/folders/0q/77jvn_416ybbg7m9_c4f7xkw2wwy7f/T/ipykernel_15702/2115743113.py:1 []\n",
      "       |  PythonRDD[8] at reduceByKey at /var/folders/0q/77jvn_416ybbg7m9_c4f7xkw2wwy7f/T/ipykernel_15702/2115743113.py:1 []\n",
      "       |  ParallelCollectionRDD[0] at readRDDFromFile at PythonRDD.scala:274 []\n"
     ]
    }
   ],
   "source": [
    "print(ordered_finalRDD.toDebugString().decode('utf-8'))"
   ]
  },
  {
   "cell_type": "markdown",
   "metadata": {},
   "source": [
    "## .coalesce() vs .repartition()"
   ]
  },
  {
   "cell_type": "code",
   "execution_count": 15,
   "metadata": {
    "ExecuteTime": {
     "end_time": "2021-01-11T06:15:12.789580Z",
     "start_time": "2021-01-11T06:15:12.785238Z"
    }
   },
   "outputs": [],
   "source": [
    "coalesce = ordered_finalRDD.coalesce(3)"
   ]
  },
  {
   "cell_type": "code",
   "execution_count": 16,
   "metadata": {
    "ExecuteTime": {
     "end_time": "2021-01-11T06:15:13.326067Z",
     "start_time": "2021-01-11T06:15:13.312469Z"
    }
   },
   "outputs": [
    {
     "name": "stdout",
     "output_type": "stream",
     "text": [
      "(3) CoalescedRDD[19] at coalesce at NativeMethodAccessorImpl.java:0 []\n",
      " |  PythonRDD[18] at RDD at PythonRDD.scala:53 []\n",
      " |  MapPartitionsRDD[17] at mapPartitions at PythonRDD.scala:145 []\n",
      " |  ShuffledRDD[16] at partitionBy at NativeMethodAccessorImpl.java:0 []\n",
      " +-(5) PairwiseRDD[15] at sortByKey at /var/folders/0q/77jvn_416ybbg7m9_c4f7xkw2wwy7f/T/ipykernel_15702/2115743113.py:1 []\n",
      "    |  PythonRDD[14] at sortByKey at /var/folders/0q/77jvn_416ybbg7m9_c4f7xkw2wwy7f/T/ipykernel_15702/2115743113.py:1 []\n",
      "    |  MapPartitionsRDD[11] at mapPartitions at PythonRDD.scala:145 []\n",
      "    |  ShuffledRDD[10] at partitionBy at NativeMethodAccessorImpl.java:0 []\n",
      "    +-(5) PairwiseRDD[9] at reduceByKey at /var/folders/0q/77jvn_416ybbg7m9_c4f7xkw2wwy7f/T/ipykernel_15702/2115743113.py:1 []\n",
      "       |  PythonRDD[8] at reduceByKey at /var/folders/0q/77jvn_416ybbg7m9_c4f7xkw2wwy7f/T/ipykernel_15702/2115743113.py:1 []\n",
      "       |  ParallelCollectionRDD[0] at readRDDFromFile at PythonRDD.scala:274 []\n"
     ]
    }
   ],
   "source": [
    "print(coalesce.toDebugString().decode('utf-8'))"
   ]
  },
  {
   "cell_type": "code",
   "execution_count": 17,
   "metadata": {
    "ExecuteTime": {
     "end_time": "2021-01-11T06:15:13.738009Z",
     "start_time": "2021-01-11T06:15:13.721951Z"
    }
   },
   "outputs": [],
   "source": [
    "repartition = ordered_finalRDD.repartition(3)"
   ]
  },
  {
   "cell_type": "code",
   "execution_count": 18,
   "metadata": {
    "ExecuteTime": {
     "end_time": "2021-01-11T06:15:14.246190Z",
     "start_time": "2021-01-11T06:15:14.240882Z"
    }
   },
   "outputs": [
    {
     "name": "stdout",
     "output_type": "stream",
     "text": [
      "(3) MapPartitionsRDD[24] at coalesce at NativeMethodAccessorImpl.java:0 []\n",
      " |  CoalescedRDD[23] at coalesce at NativeMethodAccessorImpl.java:0 []\n",
      " |  ShuffledRDD[22] at coalesce at NativeMethodAccessorImpl.java:0 []\n",
      " +-(5) MapPartitionsRDD[21] at coalesce at NativeMethodAccessorImpl.java:0 []\n",
      "    |  PythonRDD[20] at RDD at PythonRDD.scala:53 []\n",
      "    |  MapPartitionsRDD[17] at mapPartitions at PythonRDD.scala:145 []\n",
      "    |  ShuffledRDD[16] at partitionBy at NativeMethodAccessorImpl.java:0 []\n",
      "    +-(5) PairwiseRDD[15] at sortByKey at /var/folders/0q/77jvn_416ybbg7m9_c4f7xkw2wwy7f/T/ipykernel_15702/2115743113.py:1 []\n",
      "       |  PythonRDD[14] at sortByKey at /var/folders/0q/77jvn_416ybbg7m9_c4f7xkw2wwy7f/T/ipykernel_15702/2115743113.py:1 []\n",
      "       |  MapPartitionsRDD[11] at mapPartitions at PythonRDD.scala:145 []\n",
      "       |  ShuffledRDD[10] at partitionBy at NativeMethodAccessorImpl.java:0 []\n",
      "       +-(5) PairwiseRDD[9] at reduceByKey at /var/folders/0q/77jvn_416ybbg7m9_c4f7xkw2wwy7f/T/ipykernel_15702/2115743113.py:1 []\n",
      "          |  PythonRDD[8] at reduceByKey at /var/folders/0q/77jvn_416ybbg7m9_c4f7xkw2wwy7f/T/ipykernel_15702/2115743113.py:1 []\n",
      "          |  ParallelCollectionRDD[0] at readRDDFromFile at PythonRDD.scala:274 []\n"
     ]
    }
   ],
   "source": [
    "print(repartition.toDebugString().decode('utf-8'))"
   ]
  },
  {
   "cell_type": "markdown",
   "metadata": {},
   "source": [
    "### Checkpoint : Checkpoint finalRDD and see its debug string."
   ]
  },
  {
   "cell_type": "code",
   "execution_count": 19,
   "metadata": {
    "ExecuteTime": {
     "end_time": "2021-01-11T06:15:15.618403Z",
     "start_time": "2021-01-11T06:15:15.198178Z"
    }
   },
   "outputs": [
    {
     "name": "stdout",
     "output_type": "stream",
     "text": [
      "(3) MapPartitionsRDD[24] at coalesce at NativeMethodAccessorImpl.java:0 []\n",
      " |  CoalescedRDD[23] at coalesce at NativeMethodAccessorImpl.java:0 []\n",
      " |  ShuffledRDD[22] at coalesce at NativeMethodAccessorImpl.java:0 []\n",
      " +-(5) MapPartitionsRDD[21] at coalesce at NativeMethodAccessorImpl.java:0 []\n",
      "    |  PythonRDD[20] at RDD at PythonRDD.scala:53 []\n",
      "    |  MapPartitionsRDD[17] at mapPartitions at PythonRDD.scala:145 []\n",
      "    |  ShuffledRDD[16] at partitionBy at NativeMethodAccessorImpl.java:0 []\n",
      "    +-(5) PairwiseRDD[15] at sortByKey at /var/folders/0q/77jvn_416ybbg7m9_c4f7xkw2wwy7f/T/ipykernel_15702/2115743113.py:1 []\n",
      "       |  PythonRDD[14] at sortByKey at /var/folders/0q/77jvn_416ybbg7m9_c4f7xkw2wwy7f/T/ipykernel_15702/2115743113.py:1 []\n",
      "       |  MapPartitionsRDD[11] at mapPartitions at PythonRDD.scala:145 []\n",
      "       |  ShuffledRDD[10] at partitionBy at NativeMethodAccessorImpl.java:0 []\n",
      "       +-(5) PairwiseRDD[9] at reduceByKey at /var/folders/0q/77jvn_416ybbg7m9_c4f7xkw2wwy7f/T/ipykernel_15702/2115743113.py:1 []\n",
      "          |  PythonRDD[8] at reduceByKey at /var/folders/0q/77jvn_416ybbg7m9_c4f7xkw2wwy7f/T/ipykernel_15702/2115743113.py:1 []\n",
      "          |  ParallelCollectionRDD[0] at readRDDFromFile at PythonRDD.scala:274 []\n",
      "False\n",
      "True\n",
      "file:/Users/dwoodbridge/Class/2021_MSDS694_FALL/Example/Week7/checkpoint/4abeb79c-eebb-4a6a-8baf-31fc493411b7/rdd-24\n"
     ]
    }
   ],
   "source": [
    "print(repartition.toDebugString().decode('utf-8'))\n",
    "\n",
    "sc.setCheckpointDir(\"checkpoint\")\n",
    "repartition.checkpoint() # all references to its parent RDDs will be removed.\n",
    "print(repartition.isCheckpointed()) # not checkpointed until action()\n",
    "\n",
    "repartition.count()\n",
    "print(repartition.isCheckpointed())\n",
    "print(repartition.getCheckpointFile())"
   ]
  },
  {
   "cell_type": "code",
   "execution_count": 20,
   "metadata": {
    "ExecuteTime": {
     "end_time": "2021-01-11T06:15:17.473114Z",
     "start_time": "2021-01-11T06:15:17.469936Z"
    }
   },
   "outputs": [
    {
     "name": "stdout",
     "output_type": "stream",
     "text": [
      "(3) MapPartitionsRDD[24] at coalesce at NativeMethodAccessorImpl.java:0 []\n",
      " |  ReliableCheckpointRDD[26] at count at /var/folders/0q/77jvn_416ybbg7m9_c4f7xkw2wwy7f/T/ipykernel_15702/3484126999.py:7 []\n"
     ]
    }
   ],
   "source": [
    "print(repartition.toDebugString().decode('utf-8'))"
   ]
  },
  {
   "cell_type": "code",
   "execution_count": 21,
   "metadata": {
    "ExecuteTime": {
     "end_time": "2021-01-11T06:15:22.511117Z",
     "start_time": "2021-01-11T06:15:21.934746Z"
    }
   },
   "outputs": [],
   "source": [
    "sc.stop()"
   ]
  },
  {
   "cell_type": "code",
   "execution_count": null,
   "metadata": {},
   "outputs": [],
   "source": []
  }
 ],
 "metadata": {
  "anaconda-cloud": {},
  "kernelspec": {
   "display_name": "Python 3 (ipykernel)",
   "language": "python",
   "name": "python3"
  },
  "language_info": {
   "codemirror_mode": {
    "name": "ipython",
    "version": 3
   },
   "file_extension": ".py",
   "mimetype": "text/x-python",
   "name": "python",
   "nbconvert_exporter": "python",
   "pygments_lexer": "ipython3",
   "version": "3.7.11"
  },
  "varInspector": {
   "cols": {
    "lenName": 16,
    "lenType": 16,
    "lenVar": 40
   },
   "kernels_config": {
    "python": {
     "delete_cmd_postfix": "",
     "delete_cmd_prefix": "del ",
     "library": "var_list.py",
     "varRefreshCmd": "print(var_dic_list())"
    },
    "r": {
     "delete_cmd_postfix": ") ",
     "delete_cmd_prefix": "rm(",
     "library": "var_list.r",
     "varRefreshCmd": "cat(var_dic_list()) "
    }
   },
   "types_to_exclude": [
    "module",
    "function",
    "builtin_function_or_method",
    "instance",
    "_Feature"
   ],
   "window_display": false
  }
 },
 "nbformat": 4,
 "nbformat_minor": 2
}
